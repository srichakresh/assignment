{
 "cells": [
  {
   "cell_type": "markdown",
   "id": "92746086-a088-45e9-a720-27c8b0d09443",
   "metadata": {},
   "source": [
    "Function to Add Two Numbers\n",
    "\n",
    "def add(a, b)"
   ]
  },
  {
   "cell_type": "code",
   "execution_count": 1,
   "id": "52900a7b-5844-481c-b048-e93f7ef74556",
   "metadata": {},
   "outputs": [],
   "source": [
    "def add(a,b):\n",
    "    return a+b"
   ]
  },
  {
   "cell_type": "code",
   "execution_count": 2,
   "id": "7465df12-b21f-403f-93df-87acf0e3aa8b",
   "metadata": {},
   "outputs": [
    {
     "data": {
      "text/plain": [
       "15"
      ]
     },
     "execution_count": 2,
     "metadata": {},
     "output_type": "execute_result"
    }
   ],
   "source": [
    "add(6,9)"
   ]
  },
  {
   "cell_type": "markdown",
   "id": "e78651e9-5bc1-4c6b-9c68-56428493f805",
   "metadata": {},
   "source": [
    "Function to Find Maximum of Three Numbers\n",
    "\n",
    "def max_of_three(a, b, c):"
   ]
  },
  {
   "cell_type": "code",
   "execution_count": 3,
   "id": "0683ec15-6d92-415d-b0dd-9fee60a09a61",
   "metadata": {},
   "outputs": [],
   "source": [
    "def max_of_three(a,b,c):\n",
    "    return max(a,b,c)"
   ]
  },
  {
   "cell_type": "code",
   "execution_count": 4,
   "id": "b3dc3d1f-839f-4b1b-9ae8-f2b4d4c2dd1f",
   "metadata": {},
   "outputs": [
    {
     "data": {
      "text/plain": [
       "8"
      ]
     },
     "execution_count": 4,
     "metadata": {},
     "output_type": "execute_result"
    }
   ],
   "source": [
    " max_of_three(2,6,8)"
   ]
  },
  {
   "cell_type": "markdown",
   "id": "f4a88a9a-df52-4521-8409-18e509a5c201",
   "metadata": {},
   "source": [
    "def is_prime(n):"
   ]
  },
  {
   "cell_type": "code",
   "execution_count": 7,
   "id": "f65e06c4-7dcf-44fd-a612-e9a7cb147931",
   "metadata": {},
   "outputs": [],
   "source": [
    "def prime(n):\n",
    "      if n%2==1:\n",
    "        return True\n",
    "      else:\n",
    "        return False"
   ]
  },
  {
   "cell_type": "code",
   "execution_count": 8,
   "id": "7db7cf58-bbc9-4140-a969-911b7a1c13b5",
   "metadata": {},
   "outputs": [
    {
     "data": {
      "text/plain": [
       "True"
      ]
     },
     "execution_count": 8,
     "metadata": {},
     "output_type": "execute_result"
    }
   ],
   "source": [
    "prime(9)"
   ]
  },
  {
   "cell_type": "markdown",
   "id": "d12f7c4f-c981-4e08-8ebc-75545be89bc1",
   "metadata": {},
   "source": [
    "Function to Calculate Factorial\n",
    "def factorial(n):\n",
    "\n"
   ]
  },
  {
   "cell_type": "code",
   "execution_count": 9,
   "id": "adf6382d-f179-4c43-8324-1b3afcff9b73",
   "metadata": {},
   "outputs": [],
   "source": [
    "def factorial(n):\n",
    "    f = 1\n",
    "    while n > 0:\n",
    "        f = f * n\n",
    "        n = n - 1\n",
    "    return f"
   ]
  },
  {
   "cell_type": "code",
   "execution_count": 10,
   "id": "d3dea8b5-450a-42d2-8a43-4748935ba5f0",
   "metadata": {},
   "outputs": [
    {
     "data": {
      "text/plain": [
       "5040"
      ]
     },
     "execution_count": 10,
     "metadata": {},
     "output_type": "execute_result"
    }
   ],
   "source": [
    "factorial(7)"
   ]
  },
  {
   "cell_type": "markdown",
   "id": "8b81baaa-9753-4a84-8d42-6045ee1ecbc7",
   "metadata": {},
   "source": [
    "Function to Print Fibonacci Series up to N terms\n",
    "\n",
    "def fibonacci(n)"
   ]
  },
  {
   "cell_type": "code",
   "execution_count": 11,
   "id": "accc9302-a4bf-4b44-88c1-af77b8143927",
   "metadata": {},
   "outputs": [],
   "source": [
    "def fibonacci(n):\n",
    "    a, b = 0, 1\n",
    "    count = 0\n",
    "    while count < n:\n",
    "        print(a, end=' ')\n",
    "        a, b = b, a + b\n",
    "        count += 1"
   ]
  },
  {
   "cell_type": "code",
   "execution_count": 12,
   "id": "493b4776-f192-4a91-a7df-077cbbe55e71",
   "metadata": {},
   "outputs": [
    {
     "name": "stdout",
     "output_type": "stream",
     "text": [
      "0 1 1 "
     ]
    }
   ],
   "source": [
    "fibonacci(3)"
   ]
  },
  {
   "cell_type": "markdown",
   "id": "f882d75e-fe5e-415f-9526-68e4eae4b2c4",
   "metadata": {},
   "source": [
    "Function to Count Vowels in a String def count_vowels(s):"
   ]
  },
  {
   "cell_type": "code",
   "execution_count": 14,
   "id": "4e5a712c-80e4-46c9-8be3-77f891334d4d",
   "metadata": {},
   "outputs": [],
   "source": [
    "def countvowels(s):\n",
    "    vowels=\"aeiou\""
   ]
  },
  {
   "cell_type": "code",
   "execution_count": 17,
   "id": "ff90bd1d-c565-4200-b692-e4c30738bb50",
   "metadata": {},
   "outputs": [
    {
     "ename": "NameError",
     "evalue": "name 'counvowels' is not defined",
     "output_type": "error",
     "traceback": [
      "\u001b[31m---------------------------------------------------------------------------\u001b[39m",
      "\u001b[31mNameError\u001b[39m                                 Traceback (most recent call last)",
      "\u001b[36mCell\u001b[39m\u001b[36m \u001b[39m\u001b[32mIn[17]\u001b[39m\u001b[32m, line 1\u001b[39m\n\u001b[32m----> \u001b[39m\u001b[32m1\u001b[39m \u001b[43mcounvowels\u001b[49m(\u001b[33m\"\u001b[39m\u001b[33mchakresh\u001b[39m\u001b[33m\"\u001b[39m)\n",
      "\u001b[31mNameError\u001b[39m: name 'counvowels' is not defined"
     ]
    }
   ],
   "source": [
    "counvowels(\"chakresh\")"
   ]
  },
  {
   "cell_type": "markdown",
   "id": "726c9c12-53f8-476b-b33e-3adcad974e2e",
   "metadata": {},
   "source": [
    "Write a function that takes two numbers and returns their sum."
   ]
  },
  {
   "cell_type": "code",
   "execution_count": 18,
   "id": "9f7319a8-4a4e-4ad2-961a-d818eca7227e",
   "metadata": {},
   "outputs": [],
   "source": [
    "def add(a,b):\n",
    "    return a+b\n",
    "    "
   ]
  },
  {
   "cell_type": "code",
   "execution_count": 20,
   "id": "147a74bc-4682-439a-b4d0-9a511bc3e0fd",
   "metadata": {},
   "outputs": [
    {
     "data": {
      "text/plain": [
       "3"
      ]
     },
     "execution_count": 20,
     "metadata": {},
     "output_type": "execute_result"
    }
   ],
   "source": [
    "add(1,2)"
   ]
  },
  {
   "cell_type": "markdown",
   "id": "ad2d62bc-0fd4-4943-9735-38ba2130eac1",
   "metadata": {},
   "source": [
    " Write a function that takes a string and returns it reversed."
   ]
  },
  {
   "cell_type": "code",
   "execution_count": 25,
   "id": "97c38317-5b43-42f2-9d9e-7f868a292dd6",
   "metadata": {},
   "outputs": [],
   "source": [
    "def rev(str):\n",
    "    str=(\"chakresh\",\"datascience\")\n",
    "    return str[::-1]"
   ]
  },
  {
   "cell_type": "code",
   "execution_count": 26,
   "id": "4a2d24ab-ec3b-423a-956a-f17eb283e494",
   "metadata": {},
   "outputs": [
    {
     "data": {
      "text/plain": [
       "('datascience', 'chakresh')"
      ]
     },
     "execution_count": 26,
     "metadata": {},
     "output_type": "execute_result"
    }
   ],
   "source": [
    "rev(str)"
   ]
  },
  {
   "cell_type": "markdown",
   "id": "60b12a32-0bcc-4341-9f75-b51761fa869e",
   "metadata": {},
   "source": [
    " Write a function that checks if a number is even or odd."
   ]
  },
  {
   "cell_type": "code",
   "execution_count": 27,
   "id": "be1c8fa2-b7fc-4992-9e60-730d03ada027",
   "metadata": {},
   "outputs": [],
   "source": [
    "def even(a):\n",
    "    if a%2==0:\n",
    "         return\"this is even num\"\n",
    "    else:\n",
    "        return \"this is add num\""
   ]
  },
  {
   "cell_type": "code",
   "execution_count": 28,
   "id": "d96c8ea4-0132-4791-80f1-a7c37e6a7076",
   "metadata": {},
   "outputs": [
    {
     "data": {
      "text/plain": [
       "'this is even num'"
      ]
     },
     "execution_count": 28,
     "metadata": {},
     "output_type": "execute_result"
    }
   ],
   "source": [
    "even(4)"
   ]
  },
  {
   "cell_type": "markdown",
   "id": "665b7cb0-0cc9-456c-8705-74fb74f865e0",
   "metadata": {},
   "source": [
    "Write a function that returns the factorial of a number."
   ]
  },
  {
   "cell_type": "code",
   "execution_count": 29,
   "id": "2b90792a-3e7a-499b-943c-a747e89d68e2",
   "metadata": {},
   "outputs": [],
   "source": [
    "def fact(n):\n",
    "    f=1\n",
    "    for i in range(1,n+1):\n",
    "        f = f * i\n",
    "    return f"
   ]
  },
  {
   "cell_type": "code",
   "execution_count": 30,
   "id": "ef04cbab-aeb3-40d4-8d0c-9bc4be4d7aac",
   "metadata": {},
   "outputs": [
    {
     "data": {
      "text/plain": [
       "40320"
      ]
     },
     "execution_count": 30,
     "metadata": {},
     "output_type": "execute_result"
    }
   ],
   "source": [
    "fact(8)"
   ]
  },
  {
   "cell_type": "markdown",
   "id": "f65f2ca8-c34b-4d0d-b67f-149cfbe0f8b9",
   "metadata": {},
   "source": [
    "Write a function that takes a list and returns the maximum element."
   ]
  },
  {
   "cell_type": "code",
   "execution_count": 31,
   "id": "e08cdee9-b8a9-4f5f-9b64-ef7e1beefbdb",
   "metadata": {},
   "outputs": [],
   "source": [
    "def test():\n",
    "    l=[1,2,3,4,5,6,7]\n",
    "    return max(l)"
   ]
  },
  {
   "cell_type": "code",
   "execution_count": 32,
   "id": "785c7c4d-def9-4904-bbb4-a4996269256d",
   "metadata": {},
   "outputs": [
    {
     "data": {
      "text/plain": [
       "7"
      ]
     },
     "execution_count": 32,
     "metadata": {},
     "output_type": "execute_result"
    }
   ],
   "source": [
    "test()"
   ]
  },
  {
   "cell_type": "markdown",
   "id": "9c256d45-b76f-42dd-a75b-0ff272b2c5af",
   "metadata": {},
   "source": [
    "Print numbers from 1 to 10 using a for loop"
   ]
  },
  {
   "cell_type": "code",
   "execution_count": 33,
   "id": "97ee7737-4cd9-47fe-9ffd-7c51d24119ac",
   "metadata": {},
   "outputs": [
    {
     "name": "stdout",
     "output_type": "stream",
     "text": [
      "1\n",
      "2\n",
      "3\n",
      "4\n",
      "5\n",
      "6\n",
      "7\n",
      "8\n",
      "9\n",
      "10\n"
     ]
    }
   ],
   "source": [
    "for i in range(1,11):\n",
    "    print(i)"
   ]
  },
  {
   "cell_type": "markdown",
   "id": "4d76e834-181f-40f8-9d5d-b2e883ae8821",
   "metadata": {},
   "source": [
    " Print each character in a string using a for loop."
   ]
  },
  {
   "cell_type": "code",
   "execution_count": 34,
   "id": "c7985544-cb8c-4a02-9654-f49f2425b138",
   "metadata": {},
   "outputs": [
    {
     "name": "stdout",
     "output_type": "stream",
     "text": [
      "c\n",
      "h\n",
      "a\n",
      "k\n",
      "r\n",
      "e\n",
      "s\n",
      "h\n"
     ]
    }
   ],
   "source": [
    "str = \"chakresh\"\n",
    "for i in str:\n",
    "    print(i)"
   ]
  },
  {
   "cell_type": "markdown",
   "id": "9795c06a-9a81-4069-99fe-d83b15c0d69c",
   "metadata": {},
   "source": [
    " Write a program that sums all numbers in a list using a for loop."
   ]
  },
  {
   "cell_type": "code",
   "execution_count": 35,
   "id": "848cb227-5308-4cc3-9a89-0e306329c113",
   "metadata": {},
   "outputs": [
    {
     "name": "stdout",
     "output_type": "stream",
     "text": [
      "21\n"
     ]
    }
   ],
   "source": [
    "l=[1,2,3,4,5,6]\n",
    "n=0\n",
    "for i in l:\n",
    "    n=n+i\n",
    "print(n)"
   ]
  },
  {
   "cell_type": "markdown",
   "id": "c3354678-017b-4347-a746-689d695fe0da",
   "metadata": {},
   "source": [
    "Print the multiplication table of a given number using a for loop."
   ]
  },
  {
   "cell_type": "code",
   "execution_count": 36,
   "id": "9e2ab2be-2ea5-4dbe-994e-a686da03376a",
   "metadata": {},
   "outputs": [
    {
     "name": "stdout",
     "output_type": "stream",
     "text": [
      "8 x 1 = 8\n",
      "8 x 2 = 16\n",
      "8 x 3 = 24\n",
      "8 x 4 = 32\n",
      "8 x 5 = 40\n",
      "8 x 6 = 48\n",
      "8 x 7 = 56\n",
      "8 x 8 = 64\n",
      "8 x 9 = 72\n",
      "8 x 10 = 80\n"
     ]
    }
   ],
   "source": [
    "n=8\n",
    "for i in range(1,11):\n",
    "    print(n,'x',i,'=',n*i)\n",
    "    "
   ]
  },
  {
   "cell_type": "markdown",
   "id": "775b5e8f-55eb-4146-bd3e-92dbd42e525d",
   "metadata": {},
   "source": [
    "Write a program that prints all even numbers from 1 to 50."
   ]
  },
  {
   "cell_type": "code",
   "execution_count": 37,
   "id": "f9d48e51-c116-408f-93ce-7868bfe3df45",
   "metadata": {},
   "outputs": [
    {
     "name": "stdout",
     "output_type": "stream",
     "text": [
      "2\n",
      "4\n",
      "6\n",
      "8\n",
      "10\n",
      "12\n",
      "14\n",
      "16\n",
      "18\n",
      "20\n",
      "22\n",
      "24\n",
      "26\n",
      "28\n",
      "30\n",
      "32\n",
      "34\n",
      "36\n",
      "38\n",
      "40\n",
      "42\n",
      "44\n",
      "46\n",
      "48\n",
      "50\n"
     ]
    }
   ],
   "source": [
    "for i in range(1,51):\n",
    "    if i%2==0:\n",
    "        print(i)"
   ]
  },
  {
   "cell_type": "markdown",
   "id": "322644af-1204-44bf-8ede-0a193961de24",
   "metadata": {},
   "source": [
    " Print numbers from 1 to 10 using a while loop."
   ]
  },
  {
   "cell_type": "code",
   "execution_count": 38,
   "id": "f57341eb-2978-4afe-9b3d-c4d1952a9631",
   "metadata": {},
   "outputs": [
    {
     "name": "stdout",
     "output_type": "stream",
     "text": [
      "1\n",
      "2\n",
      "3\n",
      "4\n",
      "5\n",
      "6\n",
      "7\n",
      "8\n",
      "9\n",
      "10\n"
     ]
    }
   ],
   "source": [
    "i=1\n",
    "while i<=10:\n",
    "    print(i)\n",
    "    i=i+1"
   ]
  },
  {
   "cell_type": "markdown",
   "id": "cfafd6b1-3aaa-47c8-8c8e-59c85ed104d7",
   "metadata": {},
   "source": [
    "Keep taking input from the user until they type \"exit\"."
   ]
  },
  {
   "cell_type": "code",
   "execution_count": 39,
   "id": "510b0b98-7536-4482-829c-4fd99297d58f",
   "metadata": {},
   "outputs": [
    {
     "name": "stdin",
     "output_type": "stream",
     "text": [
      "Enter something (type 'exit' to stop):  exit\n"
     ]
    },
    {
     "name": "stdout",
     "output_type": "stream",
     "text": [
      "exit\n"
     ]
    }
   ],
   "source": [
    "while True:\n",
    "    user_input = input(\"Enter something (type 'exit' to stop): \")\n",
    "    if user_input == \"exit\":\n",
    "        print(\"exit\")\n",
    "        break"
   ]
  },
  {
   "cell_type": "markdown",
   "id": "7b5d7701-ec80-4add-98ef-7a4abbc21a09",
   "metadata": {},
   "source": [
    "Write a program that finds the sum of digits of a number using a while loop.\n"
   ]
  },
  {
   "cell_type": "code",
   "execution_count": 40,
   "id": "e9cf5fbc-fed8-43db-88cb-79645b82d142",
   "metadata": {},
   "outputs": [
    {
     "name": "stdout",
     "output_type": "stream",
     "text": [
      "sum of digit: 3\n"
     ]
    }
   ],
   "source": [
    "n=111\n",
    "sum=0\n",
    "while n>0:\n",
    "    digit=n%10\n",
    "    sum=sum+digit\n",
    "    n=n//10\n",
    "print(\"sum of digit:\",sum)\n"
   ]
  },
  {
   "cell_type": "markdown",
   "id": "cad22c21-6056-430c-952d-967072c8515d",
   "metadata": {},
   "source": [
    "Guess the number game: Keep asking the user until they guess the correct number"
   ]
  },
  {
   "cell_type": "code",
   "execution_count": null,
   "id": "858445bb-0f35-429b-8c56-e63e7b6e315d",
   "metadata": {},
   "outputs": [],
   "source": [
    "number = 5  \n",
    "guess = 0   # \n",
    "\n",
    "while guess != number:\n",
    "    guess = int(input(\"Guess the number: \"))\n",
    "\n",
    "print(\"You guessed it right!\")"
   ]
  },
  {
   "cell_type": "markdown",
   "id": "1322544d-ea60-4d28-8dce-67738510602c",
   "metadata": {},
   "source": [
    " Print the Fibonacci sequence up to n terms using a while loop"
   ]
  },
  {
   "cell_type": "code",
   "execution_count": 1,
   "id": "17a08c97-f0be-4675-abf5-b69304508119",
   "metadata": {},
   "outputs": [
    {
     "name": "stdout",
     "output_type": "stream",
     "text": [
      "1 2 3 5 8 \n"
     ]
    }
   ],
   "source": [
    "n = 5\n",
    "a = 0\n",
    "b = 1\n",
    "next = b  \n",
    "count = 1\n",
    "\n",
    "while count <= n:\n",
    "    print(next, end=\" \")\n",
    "    count += 1\n",
    "    a, b = b, next\n",
    "    next = a + b\n",
    "print()"
   ]
  },
  {
   "cell_type": "markdown",
   "id": "6a401a2a-6fa7-4404-9dda-1b23db233fda",
   "metadata": {},
   "source": [
    " Write a function that takes variable number of arguments using *args and returns their sum."
   ]
  },
  {
   "cell_type": "code",
   "execution_count": 2,
   "id": "5c2bc9ac-7528-4744-b9fa-e348c9a8c96b",
   "metadata": {},
   "outputs": [],
   "source": [
    "def test(*args):\n",
    "    return sum(args)"
   ]
  },
  {
   "cell_type": "code",
   "execution_count": 4,
   "id": "8347453d-82b5-49e3-be83-7fb328cdcd21",
   "metadata": {},
   "outputs": [
    {
     "data": {
      "text/plain": [
       "103"
      ]
     },
     "execution_count": 4,
     "metadata": {},
     "output_type": "execute_result"
    }
   ],
   "source": [
    "test(6,7,5,85)"
   ]
  },
  {
   "cell_type": "markdown",
   "id": "9047f661-eef7-47ac-b77f-9fd7304e2d55",
   "metadata": {},
   "source": [
    "Write a program that unpacks a list into separate variables using "
   ]
  },
  {
   "cell_type": "code",
   "execution_count": 5,
   "id": "2170625a-1ab0-4952-b65b-e49fa791ff44",
   "metadata": {},
   "outputs": [
    {
     "name": "stdout",
     "output_type": "stream",
     "text": [
      "a: 1\n",
      "b: [2, 3, 4, 5]\n"
     ]
    }
   ],
   "source": [
    "nums = [1, 2, 3, 4, 5]\n",
    "a, *b = nums \n",
    "print(\"a:\", a)\n",
    "print(\"b:\", b)"
   ]
  },
  {
   "cell_type": "markdown",
   "id": "3aeb71de-af60-4eb9-8ba7-d176a7122705",
   "metadata": {},
   "source": [
    "Create a function that multiplies a number with itself n times using * (e.g., 2 * 3 = 6)."
   ]
  },
  {
   "cell_type": "code",
   "execution_count": 6,
   "id": "f1888e30-274c-4447-84e9-a9188cebf9af",
   "metadata": {},
   "outputs": [],
   "source": [
    "def mul(n,b):\n",
    "    return a*b"
   ]
  },
  {
   "cell_type": "code",
   "execution_count": 7,
   "id": "91752609-3da8-41a7-bd7a-a2a8824489ee",
   "metadata": {},
   "outputs": [
    {
     "data": {
      "text/plain": [
       "6"
      ]
     },
     "execution_count": 7,
     "metadata": {},
     "output_type": "execute_result"
    }
   ],
   "source": [
    "mul(2,6)"
   ]
  },
  {
   "cell_type": "code",
   "execution_count": 8,
   "id": "aac5ccde-da88-433b-9118-db0520e08157",
   "metadata": {},
   "outputs": [],
   "source": [
    "def mul(n, times):\n",
    "    result = 1\n",
    "    for _ in range(times):\n",
    "        result = result * n\n",
    "    return result"
   ]
  },
  {
   "cell_type": "code",
   "execution_count": 10,
   "id": "5b86ba10-f305-4cba-a380-49467e9f1047",
   "metadata": {},
   "outputs": [
    {
     "data": {
      "text/plain": [
       "16807"
      ]
     },
     "execution_count": 10,
     "metadata": {},
     "output_type": "execute_result"
    }
   ],
   "source": [
    "mul(7,5)"
   ]
  },
  {
   "cell_type": "markdown",
   "id": "2173508c-6b11-4d2a-94b8-44934c0ead6f",
   "metadata": {},
   "source": [
    "Use * to combine two lists into one:\n",
    "a = [1, 2] b = [3, 4]"
   ]
  },
  {
   "cell_type": "code",
   "execution_count": 11,
   "id": "95ef1e25-ea56-4bf4-8241-0e414aa03cf9",
   "metadata": {},
   "outputs": [
    {
     "name": "stdout",
     "output_type": "stream",
     "text": [
      "[1, 2, 3, 4]\n"
     ]
    }
   ],
   "source": [
    "a = [1, 2]\n",
    "b = [3, 4]\n",
    "combined = [*a, *b]\n",
    "print(combined)"
   ]
  },
  {
   "cell_type": "markdown",
   "id": "27e6c413-99a3-488f-8e72-6a8878991578",
   "metadata": {},
   "source": [
    "Write a function that checks whether a string is a palindrome."
   ]
  },
  {
   "cell_type": "code",
   "execution_count": 13,
   "id": "f1af2fbc-a582-4548-8508-a9322188ed90",
   "metadata": {},
   "outputs": [
    {
     "name": "stdout",
     "output_type": "stream",
     "text": [
      "the word is palindrome\n"
     ]
    }
   ],
   "source": [
    "def palin(word):\n",
    "    if word == word[::-1]:\n",
    "        return \"the word is palindrome\"\n",
    "    else:\n",
    "        return \"not palindrome\"\n",
    "print(palin(\"madam\"))\n"
   ]
  },
  {
   "cell_type": "markdown",
   "id": "524db9fb-4311-494e-8828-ce4ef7b79855",
   "metadata": {},
   "source": [
    "Write a function that returns the number of vowels in a given string."
   ]
  },
  {
   "cell_type": "code",
   "execution_count": 15,
   "id": "00e15ea8-0d00-4975-8afb-d03cec46971a",
   "metadata": {},
   "outputs": [
    {
     "name": "stdout",
     "output_type": "stream",
     "text": [
      "2\n"
     ]
    }
   ],
   "source": [
    "def vow(text):\n",
    "    vowels = \"aeiou\"\n",
    "    count = 0\n",
    "    for char in text.lower():\n",
    "        if char in vowels:\n",
    "            count += 1\n",
    "    return count\n",
    "print(vow(\"chakresh\"))\n"
   ]
  },
  {
   "cell_type": "markdown",
   "id": "66989ab1-728d-4de1-87b2-8b30c85ebaf5",
   "metadata": {},
   "source": [
    "Write a function that takes a list of numbers and returns only the even numbers."
   ]
  },
  {
   "cell_type": "code",
   "execution_count": 16,
   "id": "fd812fdf-bd26-4891-8190-ddfd7b308db6",
   "metadata": {},
   "outputs": [],
   "source": [
    "l=[1,2,3,4,5,6,7,8]\n",
    "def even(lst):\n",
    "    l1=[]\n",
    "    for i in l:\n",
    "        if i%2==0:\n",
    "            l1.append(i)\n",
    "    return l1"
   ]
  },
  {
   "cell_type": "code",
   "execution_count": 17,
   "id": "5df800b8-65d8-4c3a-9709-8628a53d420a",
   "metadata": {},
   "outputs": [
    {
     "data": {
      "text/plain": [
       "[2, 4, 6, 8]"
      ]
     },
     "execution_count": 17,
     "metadata": {},
     "output_type": "execute_result"
    }
   ],
   "source": [
    "even(l)"
   ]
  },
  {
   "cell_type": "markdown",
   "id": "b20bf732-2bfd-4c9a-9393-ee5b10c6d3b3",
   "metadata": {},
   "source": [
    "Write a function that takes a string and returns the number of words in it.\n"
   ]
  },
  {
   "cell_type": "code",
   "execution_count": 18,
   "id": "ecf49c6e-8720-403a-84f0-5322137b60b5",
   "metadata": {},
   "outputs": [],
   "source": [
    "def wor(text):\n",
    "    words=text.split()\n",
    "    return len(words)\n",
    "\n"
   ]
  },
  {
   "cell_type": "code",
   "execution_count": 21,
   "id": "f3b0cf7d-82db-47d4-a06f-975294af78ac",
   "metadata": {},
   "outputs": [
    {
     "data": {
      "text/plain": [
       "3"
      ]
     },
     "execution_count": 21,
     "metadata": {},
     "output_type": "execute_result"
    }
   ],
   "source": [
    "wor(\"chakresh is datascientist\")"
   ]
  },
  {
   "cell_type": "markdown",
   "id": "bd7010de-66b5-45f5-9e15-cdb9f3923ba7",
   "metadata": {},
   "source": [
    "Write a function that uses *args and prints all values line by line with their index"
   ]
  },
  {
   "cell_type": "code",
   "execution_count": 22,
   "id": "ae9004a9-8b3e-49e5-91a4-d8037f64f24e",
   "metadata": {},
   "outputs": [],
   "source": [
    "def test(*args):\n",
    "    i=0\n",
    "    for items in args:\n",
    "        print(i ,\":\" ,items)\n",
    "        i=i+1\n",
    "       "
   ]
  },
  {
   "cell_type": "code",
   "execution_count": 23,
   "id": "f75c5311-79f6-4527-8aee-bb9c771025da",
   "metadata": {},
   "outputs": [
    {
     "name": "stdout",
     "output_type": "stream",
     "text": [
      "0 : 1\n",
      "1 : 2\n",
      "2 : 3\n",
      "3 : 4\n",
      "4 : 5\n",
      "5 : ['chakresh']\n"
     ]
    }
   ],
   "source": [
    "test(1,2,3,4,5,[\"chakresh\"])"
   ]
  },
  {
   "cell_type": "markdown",
   "id": "b523ff53-28a1-49a1-b31e-4a2e2458eefb",
   "metadata": {},
   "source": [
    "Write a function that takes *args and returns their average."
   ]
  },
  {
   "cell_type": "code",
   "execution_count": 24,
   "id": "a08e9869-fe17-4fad-801c-d8ae28665078",
   "metadata": {},
   "outputs": [],
   "source": [
    "def test2(*avrgs):\n",
    "    return sum(avrgs)/len(avrgs)"
   ]
  },
  {
   "cell_type": "code",
   "execution_count": 25,
   "id": "ccb8a53d-188b-4383-ada8-0d6b930c57a2",
   "metadata": {},
   "outputs": [
    {
     "data": {
      "text/plain": [
       "3.5"
      ]
     },
     "execution_count": 25,
     "metadata": {},
     "output_type": "execute_result"
    }
   ],
   "source": [
    "test2(1,2,3,4,5,6)"
   ]
  },
  {
   "cell_type": "markdown",
   "id": "ab38bdc3-ca72-4e29-9ec4-9e19d974d1df",
   "metadata": {},
   "source": [
    "Keep asking the user to enter a positive number. Stop when they enter a negative number."
   ]
  },
  {
   "cell_type": "code",
   "execution_count": null,
   "id": "69584281-ffac-4d42-a66a-70244cf76e7f",
   "metadata": {},
   "outputs": [],
   "source": [
    "while True:\n",
    "    num = int(input(\"Enter a positive number: \"))\n",
    "    if num < 0:\n",
    "        print(\"Negative number entered. Stopping...\")\n",
    "        break"
   ]
  },
  {
   "cell_type": "markdown",
   "id": "a4707cdd-3174-4cbb-a710-5bd6d5297f06",
   "metadata": {},
   "source": [
    "Write a program to reverse a number using a while loop"
   ]
  },
  {
   "cell_type": "code",
   "execution_count": 1,
   "id": "aefa0500-53cf-4945-a332-f65b61e78e0c",
   "metadata": {},
   "outputs": [
    {
     "name": "stdin",
     "output_type": "stream",
     "text": [
      "Enter a number:  5\n"
     ]
    },
    {
     "name": "stdout",
     "output_type": "stream",
     "text": [
      "Reversed number: 5\n"
     ]
    }
   ],
   "source": [
    "num = int(input(\"Enter a number: \"))\n",
    "rev = 0\n",
    "\n",
    "while num > 0:\n",
    "    digit = num % 10\n",
    "    rev = rev * 10 + digit\n",
    "    num = num // 10\n",
    "\n",
    "print(\"Reversed number:\", rev)"
   ]
  },
  {
   "cell_type": "markdown",
   "id": "48cae2eb-cbf1-429a-8f74-20ca84b18277",
   "metadata": {},
   "source": [
    "Find the first number divisible by both 3 and 5 greater than 100 using while."
   ]
  },
  {
   "cell_type": "code",
   "execution_count": 2,
   "id": "d944c32d-c005-4b3b-acf6-6f4bfa3def54",
   "metadata": {},
   "outputs": [
    {
     "name": "stdout",
     "output_type": "stream",
     "text": [
      "  105\n"
     ]
    }
   ],
   "source": [
    "n = 101\n",
    "\n",
    "while True:\n",
    "    if n % 3 == 0 and n % 5 == 0:\n",
    "        print(\" \", n)\n",
    "        break\n",
    "    n = n + 1"
   ]
  },
  {
   "cell_type": "markdown",
   "id": "3ba5d3c2-778f-4983-bb81-b20e8fe1184f",
   "metadata": {},
   "source": [
    "Create a countdown timer using while, e.g., from 10 to 1."
   ]
  },
  {
   "cell_type": "code",
   "execution_count": 3,
   "id": "3ac66577-3778-4987-851d-7fe95c7e5fe2",
   "metadata": {},
   "outputs": [
    {
     "name": "stdout",
     "output_type": "stream",
     "text": [
      "10\n",
      "9\n",
      "8\n",
      "7\n",
      "6\n",
      "5\n",
      "4\n",
      "3\n",
      "2\n",
      "1\n",
      "Liftoff!\n"
     ]
    }
   ],
   "source": [
    "count = 10\n",
    "while count > 0:\n",
    "    print(count)\n",
    "    count -= 1\n",
    "print(\"Liftoff!\")\n"
   ]
  },
  {
   "cell_type": "markdown",
   "id": "4800d4b4-fd2d-4085-87a1-7efd2155bb80",
   "metadata": {},
   "source": [
    "Print all elements in a nested list."
   ]
  },
  {
   "cell_type": "code",
   "execution_count": 5,
   "id": "c511068d-9739-4211-9629-cd84f9698ba7",
   "metadata": {},
   "outputs": [
    {
     "name": "stdout",
     "output_type": "stream",
     "text": [
      "1\n",
      "2\n",
      "3\n",
      "4\n",
      "5\n"
     ]
    }
   ],
   "source": [
    "nested = [[1, 2], [3, 4], [5]]\n",
    "for sub in nested:\n",
    "    for item in sub:\n",
    "        print(item)\n"
   ]
  },
  {
   "cell_type": "markdown",
   "id": "3872cfe8-eefe-4f2c-bbdb-cb883d89954d",
   "metadata": {},
   "source": [
    "Count how many times each character appears in a string."
   ]
  },
  {
   "cell_type": "code",
   "execution_count": 6,
   "id": "bd95c3bf-d64e-495e-b89a-c5504f61b91c",
   "metadata": {},
   "outputs": [
    {
     "name": "stdout",
     "output_type": "stream",
     "text": [
      "{'h': 1, 'e': 1, 'l': 2, 'o': 1}\n"
     ]
    }
   ],
   "source": [
    "s = \"hello\"\n",
    "counts = {}\n",
    "for char in s:\n",
    "    counts[char] = counts.get(char, 0) + 1\n",
    "print(counts)"
   ]
  },
  {
   "cell_type": "code",
   "execution_count": null,
   "id": "bbd5a658-bfc0-4c30-9a4f-68e08c133da7",
   "metadata": {},
   "outputs": [],
   "source": []
  }
 ],
 "metadata": {
  "kernelspec": {
   "display_name": "Python 3 (ipykernel)",
   "language": "python",
   "name": "python3"
  },
  "language_info": {
   "codemirror_mode": {
    "name": "ipython",
    "version": 3
   },
   "file_extension": ".py",
   "mimetype": "text/x-python",
   "name": "python",
   "nbconvert_exporter": "python",
   "pygments_lexer": "ipython3",
   "version": "3.13.5"
  }
 },
 "nbformat": 4,
 "nbformat_minor": 5
}
