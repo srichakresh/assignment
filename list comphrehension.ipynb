{
 "cells": [
  {
   "cell_type": "markdown",
   "id": "63402a05-eb77-4736-bc88-e30c64055f34",
   "metadata": {},
   "source": [
    "Create a list of squares of numbers from 1 to 10 using list comprehension."
   ]
  },
  {
   "cell_type": "code",
   "execution_count": 1,
   "id": "df7ea11f-15d4-423d-a554-6ac9ca80e88f",
   "metadata": {},
   "outputs": [
    {
     "data": {
      "text/plain": [
       "[1, 4, 9, 16, 25, 36, 49, 64, 81]"
      ]
     },
     "execution_count": 1,
     "metadata": {},
     "output_type": "execute_result"
    }
   ],
   "source": [
    "l=[1,2,3,4,5]\n",
    "[i**2 for i in range(1,10)] "
   ]
  },
  {
   "cell_type": "markdown",
   "id": "6f8b4482-4257-4235-ab2f-78b634e4227e",
   "metadata": {},
   "source": [
    "Generate a list of even numbers from 1 to 20 using list comprehension."
   ]
  },
  {
   "cell_type": "code",
   "execution_count": 2,
   "id": "597dbfc0-f389-48d5-bb52-99f3f9adc814",
   "metadata": {},
   "outputs": [
    {
     "data": {
      "text/plain": [
       "[2, 4, 6, 8, 10, 12, 14, 16, 18]"
      ]
     },
     "execution_count": 2,
     "metadata": {},
     "output_type": "execute_result"
    }
   ],
   "source": [
    "l=[]\n",
    "[i for i in range(1,20) if i%2==0]"
   ]
  },
  {
   "cell_type": "markdown",
   "id": "8a07e83f-18a9-401b-812b-a376b6fde216",
   "metadata": {},
   "source": [
    "Create a list of the first letters of each word in the list: [\"apple\", \"banana\", \"cherry\", \"date\"]."
   ]
  },
  {
   "cell_type": "code",
   "execution_count": 3,
   "id": "21cf02c5-70e8-4d2e-9cbf-8e85d7a35414",
   "metadata": {},
   "outputs": [
    {
     "name": "stdout",
     "output_type": "stream",
     "text": [
      "['a', 'b', 'c', 'd']\n"
     ]
    }
   ],
   "source": [
    "l =[\"apple\", \"banana\", \"cherry\", \"date\"]\n",
    "letter=[word[0] for word in l]\n",
    "print(letter)"
   ]
  },
  {
   "cell_type": "markdown",
   "id": "2d6dd618-7abf-4341-ac94-f58dea3444b6",
   "metadata": {},
   "source": [
    "Convert a list of temperatures in Celsius [0, 10, 20, 30, 40] to Fahrenheit using list comprehension. (Formula: F = (C * 9/5) + 32)"
   ]
  },
  {
   "cell_type": "code",
   "execution_count": 4,
   "id": "05b28daa-2c9b-46d1-b9a7-bec687591d79",
   "metadata": {},
   "outputs": [
    {
     "name": "stdout",
     "output_type": "stream",
     "text": [
      "[32.0, 50.0, 68.0, 86.0, 104.0]\n"
     ]
    }
   ],
   "source": [
    "celsius = [0, 10, 20, 30, 40]\n",
    "fahrenheit = [(c * 9/5) + 32 for c in celsius]\n",
    "print(fahrenheit)"
   ]
  },
  {
   "cell_type": "markdown",
   "id": "e36b7a81-fdf4-41c6-a772-6689e089c074",
   "metadata": {},
   "source": [
    "Create a list of the first 10 natural numbers using list comprehension."
   ]
  },
  {
   "cell_type": "code",
   "execution_count": 5,
   "id": "41eb5b79-2146-41a6-8611-46ce04b1b0f0",
   "metadata": {},
   "outputs": [
    {
     "data": {
      "text/plain": [
       "[1, 2, 3, 4, 5, 6, 7, 8, 9, 10]"
      ]
     },
     "execution_count": 5,
     "metadata": {},
     "output_type": "execute_result"
    }
   ],
   "source": [
    "l=[]\n",
    "[i for i in range(1,11)]"
   ]
  },
  {
   "cell_type": "markdown",
   "id": "1dc16e7e-c156-44df-99e3-00c1214cadf7",
   "metadata": {},
   "source": [
    "Generate a list of cubes of numbers from 1 to 10."
   ]
  },
  {
   "cell_type": "code",
   "execution_count": 7,
   "id": "c102aae8-af09-4dc0-8bd4-a8a8d100e038",
   "metadata": {},
   "outputs": [
    {
     "name": "stdout",
     "output_type": "stream",
     "text": [
      "[1, 8, 27, 64, 125, 216, 343, 512, 729, 1000]\n"
     ]
    }
   ],
   "source": [
    "l=[i**3 for i in range(1,11)] \n",
    "print(l)"
   ]
  },
  {
   "cell_type": "markdown",
   "id": "e3ac9c02-3a4f-44eb-bf93-a719d5023eb8",
   "metadata": {},
   "source": [
    "Extract the first character from each word in the list: [\"apple\", \"banana\", \"cherry\", \"date\"]."
   ]
  },
  {
   "cell_type": "markdown",
   "id": "d5678f54-509c-4f75-8592-a4b60dd840e7",
   "metadata": {},
   "source": [
    "Given a string \"Python is fun\", create a list of words in the string."
   ]
  },
  {
   "cell_type": "code",
   "execution_count": 8,
   "id": "8a394c14-b6d7-48af-819d-218f361ddab4",
   "metadata": {},
   "outputs": [
    {
     "data": {
      "text/plain": [
       "['python', 'is', 'fun']"
      ]
     },
     "execution_count": 8,
     "metadata": {},
     "output_type": "execute_result"
    }
   ],
   "source": [
    "s=\"python is fun\"\n",
    "[word for word in s.split()]"
   ]
  },
  {
   "cell_type": "markdown",
   "id": "d7941dc4-38f5-416d-bc75-5c57b7c331b1",
   "metadata": {},
   "source": [
    "Convert a list of strings [\"Hello\", \"World\", \"Python\"] to uppercase using list comprehension."
   ]
  },
  {
   "cell_type": "code",
   "execution_count": 9,
   "id": "578ff059-952d-48fd-aa32-561aa863ef40",
   "metadata": {},
   "outputs": [
    {
     "data": {
      "text/plain": [
       "['HELLO', 'WORLD', 'PYTHON']"
      ]
     },
     "execution_count": 9,
     "metadata": {},
     "output_type": "execute_result"
    }
   ],
   "source": [
    "s= [\"Hello\", \"World\", \"Python\"]\n",
    "[word.upper() for word in s]"
   ]
  },
  {
   "cell_type": "markdown",
   "id": "2e62e438-ea1e-47eb-8435-e86e0e8cc2d0",
   "metadata": {},
   "source": [
    "Create a list of numbers from 1 to 50 that are divisible by both 3 and 5"
   ]
  },
  {
   "cell_type": "code",
   "execution_count": 10,
   "id": "e7944287-d3e7-4273-a94b-e10affbb9cd4",
   "metadata": {},
   "outputs": [
    {
     "data": {
      "text/plain": [
       "[15, 30, 45]"
      ]
     },
     "execution_count": 10,
     "metadata": {},
     "output_type": "execute_result"
    }
   ],
   "source": [
    "[i for i in range(1,50) if i%3==0 and i%5==0]"
   ]
  },
  {
   "cell_type": "markdown",
   "id": "1d232cb9-e9a3-4208-8344-bef9a2980cb3",
   "metadata": {},
   "source": [
    "Given a list of numbers [1, 2, 3, 4, 5, 6, 7, 8, 9, 10], create a new list containing only the odd numbers."
   ]
  },
  {
   "cell_type": "code",
   "execution_count": 11,
   "id": "3714a989-b8c0-4b6b-bf12-74e0f15d3112",
   "metadata": {},
   "outputs": [
    {
     "name": "stdout",
     "output_type": "stream",
     "text": [
      "[1, 3, 5, 7, 9]\n"
     ]
    }
   ],
   "source": [
    "l = [1, 2, 3, 4, 5, 6, 7, 8, 9, 10]\n",
    "l1 = [i for i in l if i % 2 != 0]\n",
    "print(l1)"
   ]
  },
  {
   "cell_type": "markdown",
   "id": "12b70801-88da-4437-b7e4-050781f76e26",
   "metadata": {},
   "source": [
    "Given a string \"hello world\", create a list of vowels present in the string."
   ]
  },
  {
   "cell_type": "code",
   "execution_count": 12,
   "id": "2040e82d-7681-476e-b238-4c9e9b225ed7",
   "metadata": {},
   "outputs": [
    {
     "name": "stdout",
     "output_type": "stream",
     "text": [
      "['e', 'o', 'o']\n"
     ]
    }
   ],
   "source": [
    "s=\"hello world\"\n",
    "vowels=\"aeiou\"\n",
    "list=[char for char in s if char in vowels]\n",
    "print(list)\n"
   ]
  },
  {
   "cell_type": "markdown",
   "id": "d76d1fdb-3a59-4062-9ec5-321cfda7a4a3",
   "metadata": {},
   "source": [
    "Convert a list of words [\"Hello\", \"WORLD\", \"Python\", \"LiSt\"] to lowercase using list comprehension"
   ]
  },
  {
   "cell_type": "code",
   "execution_count": 13,
   "id": "c04c5f45-b06b-4ec0-9235-209367e61480",
   "metadata": {},
   "outputs": [
    {
     "data": {
      "text/plain": [
       "['hello', 'world', 'python', 'list']"
      ]
     },
     "execution_count": 13,
     "metadata": {},
     "output_type": "execute_result"
    }
   ],
   "source": [
    "s=[\"Hello\", \"WORLD\", \"Python\", \"LiSt\"]\n",
    "[word.lower() for word in s]"
   ]
  },
  {
   "cell_type": "markdown",
   "id": "642a2fa3-e333-4583-9205-312b9871ca7d",
   "metadata": {},
   "source": [
    "Create a list of even numbers from 1 to 50."
   ]
  },
  {
   "cell_type": "code",
   "execution_count": 14,
   "id": "f1946410-67d1-4bb6-8263-48dea7ae13d2",
   "metadata": {},
   "outputs": [
    {
     "name": "stdout",
     "output_type": "stream",
     "text": [
      "[2, 4, 6, 8, 10, 12, 14, 16, 18, 20, 22, 24, 26, 28, 30, 32, 34, 36, 38, 40, 42, 44, 46, 48, 50]\n"
     ]
    }
   ],
   "source": [
    "list=[i for i in range(1,51) if i%2==0]\n",
    "print(list)"
   ]
  },
  {
   "cell_type": "markdown",
   "id": "74a40e1a-3067-4293-ae87-05dc4b917808",
   "metadata": {},
   "source": [
    "Generate a list of numbers from 1 to 20 that are not divisible by 3."
   ]
  },
  {
   "cell_type": "code",
   "execution_count": 15,
   "id": "5a6dc7f4-fa9f-45f0-9f30-02ef8fb3ebd4",
   "metadata": {},
   "outputs": [
    {
     "name": "stdout",
     "output_type": "stream",
     "text": [
      "[1, 2, 4, 5, 7, 8, 10, 11, 13, 14, 16, 17, 19, 20]\n"
     ]
    }
   ],
   "source": [
    "list=[i for i in range(1,21) if i%3!=0]\n",
    "print(list)"
   ]
  },
  {
   "cell_type": "markdown",
   "id": "32dccfb7-fd11-4080-a270-a413a8ac1a7b",
   "metadata": {},
   "source": [
    "Create a list of squares of only the even numbers from 1 to 10."
   ]
  },
  {
   "cell_type": "code",
   "execution_count": 16,
   "id": "c4119504-1b36-43a8-87e2-305b26119785",
   "metadata": {},
   "outputs": [
    {
     "name": "stdout",
     "output_type": "stream",
     "text": [
      "[1, 4, 9, 16, 25, 36, 49, 64, 81, 100]\n"
     ]
    }
   ],
   "source": [
    "square=[i**2 for i in range(1,11)]\n",
    "print(square)"
   ]
  },
  {
   "cell_type": "markdown",
   "id": "693b6bb3-b85b-4cbb-bbe3-563a6b15e7f5",
   "metadata": {},
   "source": [
    "Given a list of words [\"dog\", \"elephant\", \"cat\", \"rabbit\"], create a new list containing only words with more than 3 letters."
   ]
  },
  {
   "cell_type": "code",
   "execution_count": 17,
   "id": "5c5a14c9-a8a7-4cbe-aa9b-23db4b62c95c",
   "metadata": {},
   "outputs": [
    {
     "name": "stdout",
     "output_type": "stream",
     "text": [
      "['elephant', 'rabbit']\n"
     ]
    }
   ],
   "source": [
    "words=[\"dog\", \"elephant\", \"cat\", \"rabbit\"]\n",
    "new=[word for word in words if len(word)>3]\n",
    "print(new)"
   ]
  },
  {
   "cell_type": "code",
   "execution_count": null,
   "id": "5974d035-fe43-43f5-86be-37f8ce9630a3",
   "metadata": {},
   "outputs": [],
   "source": []
  }
 ],
 "metadata": {
  "kernelspec": {
   "display_name": "Python 3 (ipykernel)",
   "language": "python",
   "name": "python3"
  },
  "language_info": {
   "codemirror_mode": {
    "name": "ipython",
    "version": 3
   },
   "file_extension": ".py",
   "mimetype": "text/x-python",
   "name": "python",
   "nbconvert_exporter": "python",
   "pygments_lexer": "ipython3",
   "version": "3.13.5"
  }
 },
 "nbformat": 4,
 "nbformat_minor": 5
}
