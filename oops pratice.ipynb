{
 "cells": [
  {
   "cell_type": "markdown",
   "id": "7e557fc2-deb3-4de7-a8c5-44f408986f19",
   "metadata": {},
   "source": [
    "Create a class called Car with attributes brand, model, and year. Create an object of this class and display its attributes."
   ]
  },
  {
   "cell_type": "code",
   "execution_count": 1,
   "id": "34c07bce-786a-4a06-a6ce-0680d4c4aed0",
   "metadata": {},
   "outputs": [],
   "source": [
    "class car():\n",
    "    def __init__(self,brand,model,year):\n",
    "        self.brand=brand\n",
    "        self.model=model\n",
    "        self.year=year"
   ]
  },
  {
   "cell_type": "code",
   "execution_count": 2,
   "id": "6421ae1d-a5e1-4fe4-bbe0-5a177987fb44",
   "metadata": {},
   "outputs": [],
   "source": [
    "car1=car(\"benz\",\"benz 3 series\",2022)"
   ]
  },
  {
   "cell_type": "code",
   "execution_count": 3,
   "id": "5c4014ef-93e8-4667-8fa9-1aa9219ce8a1",
   "metadata": {},
   "outputs": [
    {
     "data": {
      "text/plain": [
       "'benz'"
      ]
     },
     "execution_count": 3,
     "metadata": {},
     "output_type": "execute_result"
    }
   ],
   "source": [
    "car1.brand"
   ]
  },
  {
   "cell_type": "code",
   "execution_count": 4,
   "id": "2a822860-1fca-4bee-bb93-6686df0526d2",
   "metadata": {},
   "outputs": [
    {
     "data": {
      "text/plain": [
       "'benz 3 series'"
      ]
     },
     "execution_count": 4,
     "metadata": {},
     "output_type": "execute_result"
    }
   ],
   "source": [
    "car1.model"
   ]
  },
  {
   "cell_type": "code",
   "execution_count": 5,
   "id": "6075209f-0b72-4c41-9142-bba016d68e10",
   "metadata": {},
   "outputs": [
    {
     "data": {
      "text/plain": [
       "2022"
      ]
     },
     "execution_count": 5,
     "metadata": {},
     "output_type": "execute_result"
    }
   ],
   "source": [
    "car1.year"
   ]
  },
  {
   "cell_type": "code",
   "execution_count": 7,
   "id": "91313543-283c-43be-86ea-407c4583beca",
   "metadata": {},
   "outputs": [
    {
     "data": {
      "text/plain": [
       "['__class__',\n",
       " '__delattr__',\n",
       " '__dict__',\n",
       " '__dir__',\n",
       " '__doc__',\n",
       " '__eq__',\n",
       " '__firstlineno__',\n",
       " '__format__',\n",
       " '__ge__',\n",
       " '__getattribute__',\n",
       " '__getstate__',\n",
       " '__gt__',\n",
       " '__hash__',\n",
       " '__init__',\n",
       " '__init_subclass__',\n",
       " '__le__',\n",
       " '__lt__',\n",
       " '__module__',\n",
       " '__ne__',\n",
       " '__new__',\n",
       " '__reduce__',\n",
       " '__reduce_ex__',\n",
       " '__repr__',\n",
       " '__setattr__',\n",
       " '__sizeof__',\n",
       " '__static_attributes__',\n",
       " '__str__',\n",
       " '__subclasshook__',\n",
       " '__weakref__',\n",
       " 'brand',\n",
       " 'model',\n",
       " 'year']"
      ]
     },
     "execution_count": 7,
     "metadata": {},
     "output_type": "execute_result"
    }
   ],
   "source": [
    "dir(car1)"
   ]
  },
  {
   "cell_type": "markdown",
   "id": "c37c0d4b-9297-411c-91de-84d2a7f71480",
   "metadata": {},
   "source": [
    "Create a class Person with attributes name and age. Create an object and print its attributes."
   ]
  },
  {
   "cell_type": "code",
   "execution_count": 8,
   "id": "89f13f81-8108-4a8c-92d8-de95823c1179",
   "metadata": {},
   "outputs": [],
   "source": [
    "class person():\n",
    "    def __init__(self,name,age):\n",
    "        self.name=name\n",
    "        self.age=age\n",
    "        "
   ]
  },
  {
   "cell_type": "code",
   "execution_count": 9,
   "id": "53cf1dd0-83f1-43fe-af4d-24b276eea4b8",
   "metadata": {},
   "outputs": [],
   "source": [
    "person1=person(\"chakresh\",22)\n",
    "person2=person(\"sekhar\",23)"
   ]
  },
  {
   "cell_type": "code",
   "execution_count": 10,
   "id": "61035ba5-fbb6-437b-982f-11e09fe3c4dd",
   "metadata": {},
   "outputs": [
    {
     "data": {
      "text/plain": [
       "'chakresh'"
      ]
     },
     "execution_count": 10,
     "metadata": {},
     "output_type": "execute_result"
    }
   ],
   "source": [
    "person1.name"
   ]
  },
  {
   "cell_type": "code",
   "execution_count": 11,
   "id": "ec417333-2cb3-471c-bf6b-ab446ee8f9c4",
   "metadata": {},
   "outputs": [
    {
     "data": {
      "text/plain": [
       "'sekhar'"
      ]
     },
     "execution_count": 11,
     "metadata": {},
     "output_type": "execute_result"
    }
   ],
   "source": [
    "person2.name"
   ]
  },
  {
   "cell_type": "code",
   "execution_count": 12,
   "id": "c1b77c1c-f1a3-4437-9b00-b58192aec21e",
   "metadata": {},
   "outputs": [
    {
     "data": {
      "text/plain": [
       "23"
      ]
     },
     "execution_count": 12,
     "metadata": {},
     "output_type": "execute_result"
    }
   ],
   "source": [
    "person2.age"
   ]
  },
  {
   "cell_type": "code",
   "execution_count": 13,
   "id": "650da3a2-c6d8-434b-8b98-a6cad5acfb9f",
   "metadata": {},
   "outputs": [
    {
     "data": {
      "text/plain": [
       "22"
      ]
     },
     "execution_count": 13,
     "metadata": {},
     "output_type": "execute_result"
    }
   ],
   "source": [
    "person1.age"
   ]
  },
  {
   "cell_type": "markdown",
   "id": "2ce61e11-4f37-4c3b-8a2f-9e2b9ee237fd",
   "metadata": {},
   "source": [
    " Define a class Book with attributes title, author, and price. Create multiple objects with different values."
   ]
  },
  {
   "cell_type": "code",
   "execution_count": 15,
   "id": "d247f4b9-420b-41b8-81d6-02c9f9ad63b2",
   "metadata": {},
   "outputs": [],
   "source": [
    "class book():\n",
    "    def __init__(self,title,author,price):\n",
    "        self.title=title\n",
    "        self.author=author\n",
    "        self.price=price"
   ]
  },
  {
   "cell_type": "code",
   "execution_count": 16,
   "id": "c08cf8bb-9337-49ae-92d6-ec004e087ad0",
   "metadata": {},
   "outputs": [],
   "source": [
    "book1=book('Python Course','Eric Matthes',550)\n",
    "book2=book(\"Head First Java\", \"Kathy Sierra & Bert Bates\", 700)\n",
    "book3=book(\"C Programming Absolute Beginner's Guide\", \"Greg Perry & Dean Miller\", 450)"
   ]
  },
  {
   "cell_type": "code",
   "execution_count": 17,
   "id": "830e5004-e494-4710-b535-cc37903c2f10",
   "metadata": {},
   "outputs": [
    {
     "data": {
      "text/plain": [
       "450"
      ]
     },
     "execution_count": 17,
     "metadata": {},
     "output_type": "execute_result"
    }
   ],
   "source": [
    "book3.price"
   ]
  },
  {
   "cell_type": "code",
   "execution_count": 18,
   "id": "a96b38dd-a90b-4a93-833d-e702966df07e",
   "metadata": {},
   "outputs": [
    {
     "data": {
      "text/plain": [
       "'Python Course'"
      ]
     },
     "execution_count": 18,
     "metadata": {},
     "output_type": "execute_result"
    }
   ],
   "source": [
    "book1.title"
   ]
  },
  {
   "cell_type": "code",
   "execution_count": 20,
   "id": "02b8d30f-d50b-46e3-937d-0ae0aacba95a",
   "metadata": {},
   "outputs": [
    {
     "data": {
      "text/plain": [
       "'Kathy Sierra & Bert Bates'"
      ]
     },
     "execution_count": 20,
     "metadata": {},
     "output_type": "execute_result"
    }
   ],
   "source": [
    "book2.author"
   ]
  },
  {
   "cell_type": "markdown",
   "id": "c2c226f5-9a6d-44ee-8672-a208e48286b3",
   "metadata": {},
   "source": [
    "Write a mobile phone class with attributes brand,model,and price.Create an object and print its details"
   ]
  },
  {
   "cell_type": "code",
   "execution_count": 21,
   "id": "00e6070d-080d-4bb3-a622-6de65607d1a8",
   "metadata": {},
   "outputs": [],
   "source": [
    "class MobilePhone():\n",
    "    def __init__(self,brand,model,price):\n",
    "        self.brand=brand\n",
    "        self.model=model\n",
    "        self.price=price"
   ]
  },
  {
   "cell_type": "code",
   "execution_count": 22,
   "id": "7e96ad11-72f2-4e13-a7ab-b1e10598bffa",
   "metadata": {},
   "outputs": [],
   "source": [
    "phone1=MobilePhone ('sumsung','galaxy',120000)"
   ]
  },
  {
   "cell_type": "code",
   "execution_count": 23,
   "id": "af29dbfd-3b18-4cdb-b8a2-79ff81ba010b",
   "metadata": {},
   "outputs": [
    {
     "data": {
      "text/plain": [
       "'galaxy'"
      ]
     },
     "execution_count": 23,
     "metadata": {},
     "output_type": "execute_result"
    }
   ],
   "source": [
    "phone1.model"
   ]
  },
  {
   "cell_type": "code",
   "execution_count": 24,
   "id": "a194322e-6234-42f3-b009-b3a8c937eb17",
   "metadata": {},
   "outputs": [
    {
     "data": {
      "text/plain": [
       "120000"
      ]
     },
     "execution_count": 24,
     "metadata": {},
     "output_type": "execute_result"
    }
   ],
   "source": [
    "phone1.price"
   ]
  },
  {
   "cell_type": "code",
   "execution_count": 25,
   "id": "b9f3b0d6-7fc7-40f8-86ce-9915ee470e0f",
   "metadata": {},
   "outputs": [
    {
     "data": {
      "text/plain": [
       "'sumsung'"
      ]
     },
     "execution_count": 25,
     "metadata": {},
     "output_type": "execute_result"
    }
   ],
   "source": [
    "phone1.brand"
   ]
  },
  {
   "cell_type": "markdown",
   "id": "413dd1ad-7e3b-45b6-9a9e-6d0fb82c0cba",
   "metadata": {},
   "source": [
    "Create a Laptop class with attributes brand, ram_size, and processor. Assign values and print them using an object."
   ]
  },
  {
   "cell_type": "code",
   "execution_count": 27,
   "id": "97f6a21e-35f8-496f-be9a-f39d416f7af1",
   "metadata": {},
   "outputs": [],
   "source": [
    "class Laptop():\n",
    "    def __init__(self,brand,ram_size,processor):\n",
    "        self.brand=brand\n",
    "        self.ram_size=ram_size\n",
    "        self.processor=processor"
   ]
  },
  {
   "cell_type": "code",
   "execution_count": 28,
   "id": "ed6da090-925e-4f5d-adbb-c331f5517d71",
   "metadata": {},
   "outputs": [],
   "source": [
    "lp1=Laptop(\"hp\",\"8gb\",\"corei3\")"
   ]
  },
  {
   "cell_type": "code",
   "execution_count": 29,
   "id": "d23eb146-71be-4674-b255-d81987a9c2d6",
   "metadata": {},
   "outputs": [
    {
     "data": {
      "text/plain": [
       "'corei3'"
      ]
     },
     "execution_count": 29,
     "metadata": {},
     "output_type": "execute_result"
    }
   ],
   "source": [
    "\n",
    "lp1.processor"
   ]
  },
  {
   "cell_type": "code",
   "execution_count": 30,
   "id": "5211f0ba-bd32-4d50-bd46-fe51ea71b61b",
   "metadata": {},
   "outputs": [
    {
     "data": {
      "text/plain": [
       "'8gb'"
      ]
     },
     "execution_count": 30,
     "metadata": {},
     "output_type": "execute_result"
    }
   ],
   "source": [
    "\n",
    "lp1.ram_size"
   ]
  },
  {
   "cell_type": "markdown",
   "id": "b69da802-7c86-4f01-bb76-0158fcb239ed",
   "metadata": {},
   "source": [
    "Define a Movie class with attributes title, genre, and rating. Create objects and display their attributes."
   ]
  },
  {
   "cell_type": "code",
   "execution_count": 34,
   "id": "087c2ccb-c85e-4e0b-a542-96d06b5068e1",
   "metadata": {},
   "outputs": [],
   "source": [
    "class Movie():\n",
    "    def __init__(self,title,genre,rating):\n",
    "        self.title=title\n",
    "        self.genre=genre\n",
    "        self.rating=rating"
   ]
  },
  {
   "cell_type": "code",
   "execution_count": 35,
   "id": "7cee4d26-5288-4233-94fd-b7dc1ac75c16",
   "metadata": {},
   "outputs": [],
   "source": [
    "movie1=Movie(\"Baahubali: The Beginning\",\"action drama\",9)\n",
    "movie2=Movie(\"RRR\",\"action drama\",9)\n",
    "movie3=Movie(\"MAD\",\"COMEDY\",8)"
   ]
  },
  {
   "cell_type": "code",
   "execution_count": 36,
   "id": "ea332413-e859-4936-9e99-b6472787300c",
   "metadata": {},
   "outputs": [
    {
     "data": {
      "text/plain": [
       "9"
      ]
     },
     "execution_count": 36,
     "metadata": {},
     "output_type": "execute_result"
    }
   ],
   "source": [
    "\n",
    "movie2.rating"
   ]
  },
  {
   "cell_type": "code",
   "execution_count": 37,
   "id": "891473bc-5f0e-4c45-8b36-093061d4ebce",
   "metadata": {},
   "outputs": [
    {
     "data": {
      "text/plain": [
       "'RRR'"
      ]
     },
     "execution_count": 37,
     "metadata": {},
     "output_type": "execute_result"
    }
   ],
   "source": [
    "\n",
    "movie2.title"
   ]
  },
  {
   "cell_type": "code",
   "execution_count": 38,
   "id": "d489c3ba-1b89-4333-975c-41c5db7f21d9",
   "metadata": {},
   "outputs": [
    {
     "data": {
      "text/plain": [
       "'COMEDY'"
      ]
     },
     "execution_count": 38,
     "metadata": {},
     "output_type": "execute_result"
    }
   ],
   "source": [
    "movie3.genre"
   ]
  },
  {
   "cell_type": "markdown",
   "id": "6f1194b5-cd8b-4623-aa79-aa5e1f78f7a2",
   "metadata": {},
   "source": [
    "\n",
    "    CHALLENGES"
   ]
  },
  {
   "cell_type": "markdown",
   "id": "ad7caf4d-fc1a-462d-bf95-217643aed84b",
   "metadata": {},
   "source": [
    ".Modify the Book class to add a method discount_price(discount_percent) that reduces the price based on a given percentage."
   ]
  },
  {
   "cell_type": "code",
   "execution_count": 39,
   "id": "87d760f3-cd24-4a27-91bf-c38b835c30bb",
   "metadata": {},
   "outputs": [],
   "source": [
    "class Book():\n",
    "    def __init__(self, title, author, price):\n",
    "        self.title = title\n",
    "        self.author = author\n",
    "        self.price = price\n",
    "\n",
    "    def discount_price(self, discount_percent):\n",
    "        discount_amount = (discount_percent / 100) * self.price\n",
    "        self.price = self.price - discount_amount\n",
    "        return self.price"
   ]
  },
  {
   "cell_type": "code",
   "execution_count": 40,
   "id": "05460e52-aba4-4038-81f0-c69e750bb391",
   "metadata": {},
   "outputs": [],
   "source": [
    "book1 = Book(\"Python Course\", \"Eric Matthes\", 550)"
   ]
  },
  {
   "cell_type": "code",
   "execution_count": 41,
   "id": "04a98c97-fb91-4027-a389-a98b7b59e753",
   "metadata": {},
   "outputs": [
    {
     "data": {
      "text/plain": [
       "'Python Course'"
      ]
     },
     "execution_count": 41,
     "metadata": {},
     "output_type": "execute_result"
    }
   ],
   "source": [
    "book1.title"
   ]
  },
  {
   "cell_type": "code",
   "execution_count": 43,
   "id": "9e47dcbe-2cd6-4d1a-8bb5-8942f340868f",
   "metadata": {},
   "outputs": [
    {
     "name": "stdout",
     "output_type": "stream",
     "text": [
      "Original Price: ₹ 550\n",
      "Discounted Price: ₹ 495.0\n"
     ]
    }
   ],
   "source": [
    "print(\"Original Price: ₹\", book1.price)\n",
    "book1.discount_price(10) \n",
    "print(\"Discounted Price: ₹\", book1.price)"
   ]
  },
  {
   "cell_type": "code",
   "execution_count": null,
   "id": "4a8cb0ff-5de4-45dc-8302-f3d980487786",
   "metadata": {},
   "outputs": [],
   "source": [
    "class Person():\n",
    "    def __init__(self, name, age):\n",
    "        self.name = name\n",
    "        self.age = age\n",
    "\n",
    "    def diplay(self):\n",
    "        return self.age >= 18\n",
    "\n",
    "\n",
    "person1 = Person(\"Keziya\", 20)\n",
    "person2 = Person(\"Ravi\", 15)\n",
    "\n",
    "print(person1.name, \"is adult:\", person1.is_adult())\n",
    "print(person2.name, \"is adult:\", person2.is_adult())"
   ]
  },
  {
   "cell_type": "markdown",
   "id": "9e1498fc-c0fa-4296-b650-aeebe3f50025",
   "metadata": {},
   "source": [
    "Create a class Person with attributes name and age. Write a method to display these attributes."
   ]
  },
  {
   "cell_type": "code",
   "execution_count": 2,
   "id": "4cd4549d-53c5-488b-b8b3-411edcf48c10",
   "metadata": {},
   "outputs": [],
   "source": [
    "class Person:\n",
    "    def __init__(self,name,age):\n",
    "        self.name=name\n",
    "        self.age=age\n",
    "    def display(self):\n",
    "        print(f\"my name is {self.name}\")\n",
    "        "
   ]
  },
  {
   "cell_type": "code",
   "execution_count": 5,
   "id": "8b2851d1-4518-4742-becc-0a672fbe3dbc",
   "metadata": {},
   "outputs": [],
   "source": [
    "my_person=Person(\"Chakresh\",22)"
   ]
  },
  {
   "cell_type": "code",
   "execution_count": 6,
   "id": "6b65b824-281e-4990-8a50-dd697db33728",
   "metadata": {},
   "outputs": [
    {
     "data": {
      "text/plain": [
       "'Chakresh'"
      ]
     },
     "execution_count": 6,
     "metadata": {},
     "output_type": "execute_result"
    }
   ],
   "source": [
    "\n",
    "my_person.name"
   ]
  },
  {
   "cell_type": "code",
   "execution_count": 7,
   "id": "286a3503-4cb1-42e8-8e7c-172d2442d165",
   "metadata": {},
   "outputs": [
    {
     "data": {
      "text/plain": [
       "22"
      ]
     },
     "execution_count": 7,
     "metadata": {},
     "output_type": "execute_result"
    }
   ],
   "source": [
    "\n",
    "my_person.age"
   ]
  },
  {
   "cell_type": "code",
   "execution_count": 8,
   "id": "fa8cb533-5b0a-4af4-b15f-b00dcb288166",
   "metadata": {},
   "outputs": [
    {
     "name": "stdout",
     "output_type": "stream",
     "text": [
      "my name is Chakresh\n"
     ]
    }
   ],
   "source": [
    "my_person.display()\n"
   ]
  },
  {
   "cell_type": "code",
   "execution_count": 10,
   "id": "1630b35b-89f4-498e-8678-e0f4fd51430c",
   "metadata": {},
   "outputs": [
    {
     "name": "stdout",
     "output_type": "stream",
     "text": [
      "Name: Chakresh\n",
      "Age: 22\n",
      "Name: David Varma\n",
      "Age: 24\n"
     ]
    }
   ],
   "source": [
    "class Person:\n",
    "    def __init__(self, name, age):\n",
    "        self.name = name\n",
    "        self.age = age\n",
    "\n",
    "    def display_info(self):\n",
    "        print(f\"Name: {self.name}\")\n",
    "        print(f\"Age: {self.age}\")\n",
    "\n",
    "person1 = Person(\"Chakresh\", 22)\n",
    "person2 = Person(\"David Varma\", 24)\n",
    "\n",
    "person1.display_info()  \n",
    "person2.display_info()"
   ]
  },
  {
   "cell_type": "markdown",
   "id": "a896a482-ac4b-47d9-85d7-b61124daeb11",
   "metadata": {},
   "source": [
    "\n",
    "Add a constructor (init) method to initialize attributes while creating the object."
   ]
  },
  {
   "cell_type": "code",
   "execution_count": 11,
   "id": "c1a68606-f25c-4b8c-b6c3-695b23e8f2e9",
   "metadata": {},
   "outputs": [
    {
     "name": "stdout",
     "output_type": "stream",
     "text": [
      "Name: Sree\n",
      "Age: 22\n",
      "Name: Chakresh\n",
      "Age: 23\n"
     ]
    }
   ],
   "source": [
    "class Person:\n",
    "    def __init__(self, name, age):\n",
    "        self.name = name  # Initialize 'name' attribute\n",
    "        self.age = age    # Initialize 'age' attribute\n",
    "\n",
    "    def display_info(self):\n",
    "        print(f\"Name: {self.name}\")\n",
    "        print(f\"Age: {self.age}\")\n",
    "\n",
    "person1 = Person(\"Sree\", 22)\n",
    "person2 = Person(\"Chakresh\", 23)\n",
    "\n",
    "# Display their info\n",
    "person1.display_info()\n",
    "person2.display_info()"
   ]
  },
  {
   "cell_type": "markdown",
   "id": "01eebc41-9efb-47b1-82a7-53b67c145978",
   "metadata": {},
   "source": [
    "Write a class Rectangle with attributes length and width. Add a method to compute area."
   ]
  },
  {
   "cell_type": "code",
   "execution_count": 12,
   "id": "15448002-a156-42a6-a9c9-a50a7a7936ba",
   "metadata": {},
   "outputs": [],
   "source": [
    "class Rectangle:\n",
    "    def __init__(self,length,width):\n",
    "        self.length=length\n",
    "        self.width=width\n",
    "    def compute_area(self):\n",
    "        area =self.length * self.width\n",
    "        print(f\"area of rectangle {area}\")"
   ]
  },
  {
   "cell_type": "code",
   "execution_count": 13,
   "id": "a190339d-719f-4fb7-9d3c-50b359531a89",
   "metadata": {},
   "outputs": [],
   "source": [
    "\n",
    "area1=Rectangle(10,15)"
   ]
  },
  {
   "cell_type": "code",
   "execution_count": 14,
   "id": "2eb2a467-cf4c-408e-b514-765a973e86be",
   "metadata": {},
   "outputs": [
    {
     "name": "stdout",
     "output_type": "stream",
     "text": [
      "area of rectangle 150\n"
     ]
    }
   ],
   "source": [
    "\n",
    "area1.compute_area()"
   ]
  },
  {
   "cell_type": "markdown",
   "id": "5fd93998-2a20-4f6f-be58-f9c55a76a7c0",
   "metadata": {},
   "source": [
    "Create a class Car with methods to start the car, stop the car, and display car status."
   ]
  },
  {
   "cell_type": "code",
   "execution_count": 20,
   "id": "18c9d5b3-c673-4415-9f92-04e454742d47",
   "metadata": {},
   "outputs": [],
   "source": [
    "class Car():\n",
    "    def __init__(self,name):\n",
    "        self.name=name\n",
    "    def start(self):\n",
    "        print(f\"{self.name} is started\")\n",
    "    def stop(self):\n",
    "        print(f\"{self.name} is stopped\")\n",
    "    def display(self):\n",
    "        print(f\"{self.name} is displayed\")\n"
   ]
  },
  {
   "cell_type": "code",
   "execution_count": 21,
   "id": "271fc89c-e33e-4535-9ef3-d6da3cf7c0c5",
   "metadata": {},
   "outputs": [],
   "source": [
    "\n",
    "car1=Car(\"audi\")"
   ]
  },
  {
   "cell_type": "code",
   "execution_count": 22,
   "id": "3aab0f02-8717-4882-96e2-dc6307e391e2",
   "metadata": {},
   "outputs": [
    {
     "name": "stdout",
     "output_type": "stream",
     "text": [
      "audi is started\n",
      "audi is stopped\n",
      "audi is displayed\n"
     ]
    }
   ],
   "source": [
    "car1.start()\n",
    "car1.stop()\n",
    "car1.display()"
   ]
  },
  {
   "cell_type": "markdown",
   "id": "0dd148ea-6cea-4f57-9c17-96c6047c20e5",
   "metadata": {},
   "source": [
    "Modify the Person class to make age a private variable. Add getter and setter methods."
   ]
  },
  {
   "cell_type": "code",
   "execution_count": 23,
   "id": "47f26ea2-fb61-4e55-b819-ab5cbc31cc52",
   "metadata": {},
   "outputs": [],
   "source": [
    "class Person:\n",
    "    def __init__(self, name, age):\n",
    "        self.name = name\n",
    "        self.__age = age  # Private variable (double underscore)\n",
    "\n",
    "    def display_info(self):\n",
    "        print(f\"Name: {self.name}\")\n",
    "        print(f\"Age: {self.__age}\")\n",
    "\n",
    "    # Getter method for age\n",
    "    def get_age(self):\n",
    "        return self.__age\n",
    "\n",
    "    # Setter method for age\n",
    "    def set_age(self, new_age):\n",
    "        if new_age > 0:\n",
    "            self.__age = new_age\n",
    "        else:\n",
    "            print(\"Invalid age. Age must be positive.\")"
   ]
  },
  {
   "cell_type": "code",
   "execution_count": 25,
   "id": "94a34121-2a2e-4756-9bee-2f9e7fe19623",
   "metadata": {},
   "outputs": [],
   "source": [
    "\n",
    "person1 = Person(\"Chakresh\", 22)"
   ]
  },
  {
   "cell_type": "code",
   "execution_count": 26,
   "id": "7e12679e-68a7-4517-9b8e-6d71f49e67f5",
   "metadata": {},
   "outputs": [
    {
     "name": "stdout",
     "output_type": "stream",
     "text": [
      "Name: Chakresh\n",
      "Age: 22\n"
     ]
    }
   ],
   "source": [
    "\n",
    "person1.display_info()"
   ]
  },
  {
   "cell_type": "markdown",
   "id": "988ba95d-8284-4cfb-9d53-a9d49fbf5271",
   "metadata": {},
   "source": [
    "Create a base class Animal with a method speak(). Derive classes Dog and Cat that override this method."
   ]
  },
  {
   "cell_type": "code",
   "execution_count": 29,
   "id": "fa0a4247-a8bf-46cf-8edc-61fe166fd783",
   "metadata": {},
   "outputs": [],
   "source": [
    "# Base Class\n",
    "class Animal():\n",
    "    def speak(self):\n",
    "        print(\"The animal makes a sound\")\n",
    "\n",
    "class Dog(Animal):\n",
    "    def speak(self):\n",
    "        print(\"The dog barks\")\n",
    "\n",
    "class Cat(Animal):\n",
    "    def speak(self):\n",
    "        print(\"The cat meows\")"
   ]
  },
  {
   "cell_type": "code",
   "execution_count": null,
   "id": "1f6a0083-7d89-46a5-854f-df04ff78a261",
   "metadata": {},
   "outputs": [],
   "source": [
    "animal.speak()  \n",
    "dog.speak()     \n",
    "cat.speak()"
   ]
  },
  {
   "cell_type": "code",
   "execution_count": null,
   "id": "7b69395c-383a-4385-8f10-1075f5d30921",
   "metadata": {},
   "outputs": [],
   "source": []
  }
 ],
 "metadata": {
  "kernelspec": {
   "display_name": "Python 3 (ipykernel)",
   "language": "python",
   "name": "python3"
  },
  "language_info": {
   "codemirror_mode": {
    "name": "ipython",
    "version": 3
   },
   "file_extension": ".py",
   "mimetype": "text/x-python",
   "name": "python",
   "nbconvert_exporter": "python",
   "pygments_lexer": "ipython3",
   "version": "3.13.5"
  }
 },
 "nbformat": 4,
 "nbformat_minor": 5
}
