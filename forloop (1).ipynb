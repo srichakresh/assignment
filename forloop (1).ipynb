{
 "cells": [
  {
   "cell_type": "markdown",
   "id": "8eba5ea0-4cc8-4d57-98f1-4a2b28c279da",
   "metadata": {},
   "source": [
    "#\n",
    "Filter Floats from a List Write a program that extracts all the floating-point numbers from a list containing mixed data types. The program should create a new list containing only the floats.\n"
   ]
  },
  {
   "cell_type": "code",
   "execution_count": 3,
   "id": "6d485a63-596d-499c-bdd4-548a18cf122f",
   "metadata": {},
   "outputs": [
    {
     "name": "stdout",
     "output_type": "stream",
     "text": [
      "[12.5, 23.0, 56.78]\n"
     ]
    }
   ],
   "source": [
    "l = [12.5, 45, \"hello\", 23.0, 56.78, 90, \"world\"]\n",
    "l1 = []\n",
    "\n",
    "for i in l:\n",
    "    if type(i) == float:\n",
    "        l1.append(i)\n",
    "print(l1)"
   ]
  },
  {
   "cell_type": "markdown",
   "id": "eeb2a605-185b-4688-971e-e716138f6ae2",
   "metadata": {},
   "source": [
    "Filter Strings from a List Write a program to extract all the string elements from a mixed list and store them in a new list."
   ]
  },
  {
   "cell_type": "code",
   "execution_count": 5,
   "id": "8b083ebf-a404-48c1-82c9-1c28869ff935",
   "metadata": {},
   "outputs": [
    {
     "name": "stdout",
     "output_type": "stream",
     "text": [
      "['Python', 'Coding', 'AI']\n"
     ]
    }
   ],
   "source": [
    "l = [1, \"Python\", 3.14, \"Coding\", 42, \"AI\"]\n",
    "l1 = []\n",
    "\n",
    "for i in l:\n",
    "    if type(i) == str:\n",
    "        l1.append(i)\n",
    "print(l1)"
   ]
  },
  {
   "cell_type": "markdown",
   "id": "612c4313-3e99-4dbc-98d2-ef4cef8673f9",
   "metadata": {},
   "source": [
    "Filter Non-Integers from a List Write a program to create a new list that contains all elements from a given list except for integers."
   ]
  },
  {
   "cell_type": "code",
   "execution_count": 6,
   "id": "33499e83-bf6e-473c-b2d0-3f02d0a9ab84",
   "metadata": {},
   "outputs": [
    {
     "name": "stdout",
     "output_type": "stream",
     "text": [
      "['data', 4.5, True, None]\n"
     ]
    }
   ],
   "source": [
    "l = [1, 2, 3, \"data\", 4.5, True, None]\n",
    "l1 = []\n",
    "\n",
    "for i in l:\n",
    "       l1 = [item for item in l if not (isinstance(item, int) and not isinstance(item, bool))]\n",
    "\n",
    "print(l1)"
   ]
  },
  {
   "cell_type": "markdown",
   "id": "b6d19b96-6a0a-4de4-a8de-ab9b40c166a6",
   "metadata": {},
   "source": [
    "Filter Boolean Values from a List Write a program to extract all the boolean values (True or False) from a mixed list."
   ]
  },
  {
   "cell_type": "code",
   "execution_count": 7,
   "id": "00823ab3-888e-4cb1-a2b2-eeeb97436710",
   "metadata": {},
   "outputs": [
    {
     "name": "stdout",
     "output_type": "stream",
     "text": [
      "[True, False]\n"
     ]
    }
   ],
   "source": [
    "l = [True, 42, \"yes\", False, 3.14, \"AI\"]\n",
    "l1 = []\n",
    "\n",
    "for i in l:\n",
    "    if type(i) == bool:\n",
    "        l1.append(i)\n",
    "print(l1)"
   ]
  },
  {
   "cell_type": "markdown",
   "id": "d5c9dc0f-29bf-4ea7-8d54-2b18a32d702f",
   "metadata": {},
   "source": [
    "Filter Even Integers from a List Write a program that filters only the even integers from a mixed list and stores them in a new list."
   ]
  },
  {
   "cell_type": "code",
   "execution_count": 8,
   "id": "85920feb-cbab-4a85-bdf8-adb3a2da30f0",
   "metadata": {},
   "outputs": [
    {
     "name": "stdout",
     "output_type": "stream",
     "text": [
      "[2, 4, 6]\n"
     ]
    }
   ],
   "source": [
    "l = [1, 2, 3, 4, 5, 6, \"even\", 7.8]\n",
    "l1 = [item for item in l if isinstance(item, int) and item % 2 == 0]\n",
    "print(l1)"
   ]
  },
  {
   "cell_type": "markdown",
   "id": "50436141-bcd1-4bec-ab18-3cffa3355ec4",
   "metadata": {},
   "source": [
    "    Filter Odd Integers from a List Write a program that extracts only the odd integers from a mixed list into a new list.  "
   ]
  },
  {
   "cell_type": "code",
   "execution_count": 9,
   "id": "e8448b27-f12e-4a96-9630-f2955e8a8877",
   "metadata": {},
   "outputs": [
    {
     "name": "stdout",
     "output_type": "stream",
     "text": [
      "[21, 43, 65]\n"
     ]
    }
   ],
   "source": [
    "l = [10, 21, 32, 43, \"odd\", 54, 65]\n",
    "l1 = [item for item in l if isinstance(item, int) and item % 2 != 0]\n",
    "print(l1)"
   ]
  },
  {
   "cell_type": "markdown",
   "id": "ecabbf67-a74c-4ae5-aba1-d1e6f6d7afae",
   "metadata": {},
   "source": [
    "    Filter Elements of a Specific Length Write a program to filter all string elements with a length greater than 4 characters from a mixed list.\n",
    "\n"
   ]
  },
  {
   "cell_type": "code",
   "execution_count": 10,
   "id": "9a043294-7260-4795-a61e-8e085f466c0c",
   "metadata": {},
   "outputs": [
    {
     "name": "stdout",
     "output_type": "stream",
     "text": [
      "['apple', 'hello']\n"
     ]
    }
   ],
   "source": [
    "l = [\"apple\", \"AI\", 123, \"data\", \"hello\", 3.14]\n",
    "l1 = [item for item in l if isinstance(item, str) and len(item) > 4]\n",
    "print(l1)"
   ]
  },
  {
   "cell_type": "markdown",
   "id": "13a4f755-9740-4aff-ac72-1341fb442808",
   "metadata": {},
   "source": [
    "     Filter None Values Write a program to remove all None values from a mixed list and store the remaining elements in a new list."
   ]
  },
  {
   "cell_type": "code",
   "execution_count": 11,
   "id": "ef01041e-b4dd-4585-9e50-838d7f515dec",
   "metadata": {},
   "outputs": [
    {
     "name": "stdout",
     "output_type": "stream",
     "text": [
      "[1, 'Python', 45.6, 'data']\n"
     ]
    }
   ],
   "source": [
    "l = [1, None, \"Python\", None, 45.6, \"data\"]\n",
    "l1 = [item for item in l if item is not None]\n",
    "print(l1)"
   ]
  },
  {
   "cell_type": "markdown",
   "id": "768cc8dc-2fe7-4aa4-874c-ea209d136eda",
   "metadata": {},
   "source": [
    "       Filter Alphabetic Strings Only Write a program that extracts only alphabetic strings (strings without numbers or special characters) from a mixed list."
   ]
  },
  {
   "cell_type": "code",
   "execution_count": 12,
   "id": "25ff65d1-838e-4a45-ac3b-a1f4f2fd3539",
   "metadata": {},
   "outputs": [
    {
     "name": "stdout",
     "output_type": "stream",
     "text": [
      "['AI', 'world']\n"
     ]
    }
   ],
   "source": [
    "l = [\"AI\", \"Data123\", \"hello!\", \"world\", 42, \"Python3\"]\n",
    "l1 = [item for item in l if isinstance(item, str) and item.isalpha()]\n",
    "print(l1)"
   ]
  },
  {
   "cell_type": "markdown",
   "id": "ccad90ca-5c81-4fe8-9b62-7f9b055062c9",
   "metadata": {},
   "source": [
    "      Filter Elements of Specific Data Type Write a program that asks the user to input a data type (e.g., int, float, str) and filters elements of that type from a given mixed list.    "
   ]
  },
  {
   "cell_type": "code",
   "execution_count": 13,
   "id": "4d5a1626-068e-426e-a16d-90ed8e437ddc",
   "metadata": {},
   "outputs": [
    {
     "name": "stdout",
     "output_type": "stream",
     "text": [
      "[2.5, 4.0]\n"
     ]
    }
   ],
   "source": [
    "l = [1, 2.5, \"hello\", 3, 4.0, \"world\"]\n",
    "l1 = []\n",
    "\n",
    "for i in l:\n",
    "    if type(i) == float:\n",
    "        l1.append(i)\n",
    "print(l1)"
   ]
  },
  {
   "cell_type": "code",
   "execution_count": null,
   "id": "d97a3df9-a85e-41fa-b6ce-5012491625ee",
   "metadata": {},
   "outputs": [],
   "source": []
  }
 ],
 "metadata": {
  "kernelspec": {
   "display_name": "Python 3 (ipykernel)",
   "language": "python",
   "name": "python3"
  },
  "language_info": {
   "codemirror_mode": {
    "name": "ipython",
    "version": 3
   },
   "file_extension": ".py",
   "mimetype": "text/x-python",
   "name": "python",
   "nbconvert_exporter": "python",
   "pygments_lexer": "ipython3",
   "version": "3.13.5"
  }
 },
 "nbformat": 4,
 "nbformat_minor": 5
}
