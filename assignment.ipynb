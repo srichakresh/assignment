{
 "cells": [
  {
   "cell_type": "code",
   "execution_count": 1,
   "id": "af7c0c41-175a-454d-befc-c348402290bc",
   "metadata": {},
   "outputs": [],
   "source": [
    "s = \"this is My First Python programming class and i am learning python string and its function\""
   ]
  },
  {
   "cell_type": "code",
   "execution_count": 15,
   "id": "9c6623fd-793f-46bb-bdbb-58d32b04b754",
   "metadata": {},
   "outputs": [
    {
     "name": "stdout",
     "output_type": "stream",
     "text": [
      "h   r tnrrmglsnimengyosi dtfco\n"
     ]
    }
   ],
   "source": [
    "print(s[1:300:3])"
   ]
  },
  {
   "cell_type": "code",
   "execution_count": 16,
   "id": "10953a71-2f91-4c84-92c1-dd3ce1555333",
   "metadata": {},
   "outputs": [
    {
     "data": {
      "text/plain": [
       "'noitcnuf sti dna gnirts nohtyp gninrael ma i dna ssalc gnimmargorp nohtyP tsriF yM si siht'"
      ]
     },
     "execution_count": 16,
     "metadata": {},
     "output_type": "execute_result"
    }
   ],
   "source": [
    "s[::-1]"
   ]
  },
  {
   "cell_type": "code",
   "execution_count": 17,
   "id": "932033e7-299c-4b12-89b9-3a1a7f25cf9b",
   "metadata": {},
   "outputs": [
    {
     "data": {
      "text/plain": [
       "'THIS IS MY FIRST PYTHON PROGRAMMING CLASS AND I AM LEARNING PYTHON STRING AND ITS FUNCTION'"
      ]
     },
     "execution_count": 17,
     "metadata": {},
     "output_type": "execute_result"
    }
   ],
   "source": [
    "s.upper()"
   ]
  },
  {
   "cell_type": "code",
   "execution_count": 18,
   "id": "00a210b6-986c-43a3-8152-51a5ca944b85",
   "metadata": {},
   "outputs": [
    {
     "data": {
      "text/plain": [
       "'this is my first python programming class and i am learning python string and its function'"
      ]
     },
     "execution_count": 18,
     "metadata": {},
     "output_type": "execute_result"
    }
   ],
   "source": [
    "s.lower()"
   ]
  },
  {
   "cell_type": "code",
   "execution_count": 19,
   "id": "05725538-77bb-4903-acb8-53bd330ca5e4",
   "metadata": {},
   "outputs": [
    {
     "data": {
      "text/plain": [
       "'This Is My First Python Programming Class And I Am Learning Python String And Its Function'"
      ]
     },
     "execution_count": 19,
     "metadata": {},
     "output_type": "execute_result"
    }
   ],
   "source": [
    "s.title()"
   ]
  },
  {
   "cell_type": "code",
   "execution_count": 21,
   "id": "96dbd905-93c7-4160-ace7-f502d24ce3d4",
   "metadata": {},
   "outputs": [
    {
     "data": {
      "text/plain": [
       "False"
      ]
     },
     "execution_count": 21,
     "metadata": {},
     "output_type": "execute_result"
    }
   ],
   "source": [
    "s.isalnum()"
   ]
  },
  {
   "cell_type": "code",
   "execution_count": 22,
   "id": "f75971ee-fbbf-41df-ab52-b1a2cd1674ab",
   "metadata": {},
   "outputs": [
    {
     "data": {
      "text/plain": [
       "False"
      ]
     },
     "execution_count": 22,
     "metadata": {},
     "output_type": "execute_result"
    }
   ],
   "source": [
    "s.isalpha()"
   ]
  },
  {
   "cell_type": "code",
   "execution_count": 32,
   "id": "f234f247-790b-45ef-8554-e456077acc35",
   "metadata": {},
   "outputs": [
    {
     "data": {
      "text/plain": [
       "'this is My First Python programming class and i am learning python string and its function'"
      ]
     },
     "execution_count": 32,
     "metadata": {},
     "output_type": "execute_result"
    }
   ],
   "source": [
    "s.strip()"
   ]
  },
  {
   "cell_type": "code",
   "execution_count": 33,
   "id": "07c1da79-ca1b-4251-9650-ed15ed063fca",
   "metadata": {},
   "outputs": [
    {
     "data": {
      "text/plain": [
       "'this is My First Python programming class and i am learning python string and its function'"
      ]
     },
     "execution_count": 33,
     "metadata": {},
     "output_type": "execute_result"
    }
   ],
   "source": [
    "s.lstrip()"
   ]
  },
  {
   "cell_type": "code",
   "execution_count": 30,
   "id": "d75ad3d7-5c9e-4e4e-bc0d-f9dece245b16",
   "metadata": {},
   "outputs": [
    {
     "data": {
      "text/plain": [
       "'this is My First Python programming class and i am learning python string and its function'"
      ]
     },
     "execution_count": 30,
     "metadata": {},
     "output_type": "execute_result"
    }
   ],
   "source": [
    "s.rstrip()"
   ]
  },
  {
   "cell_type": "code",
   "execution_count": 34,
   "id": "b7818335-ee19-45e2-becd-be1b5cf71a80",
   "metadata": {},
   "outputs": [
    {
     "data": {
      "text/plain": [
       "'zimnxt'"
      ]
     },
     "execution_count": 34,
     "metadata": {},
     "output_type": "execute_result"
    }
   ],
   "source": [
    "s1=\"aimnxt\"\n",
    "s1.replace('a','z')"
   ]
  },
  {
   "cell_type": "code",
   "execution_count": 38,
   "id": "9815b541-6385-48ec-b5b7-5b1fd689b801",
   "metadata": {},
   "outputs": [
    {
     "data": {
      "text/plain": [
       "'*******python*******'"
      ]
     },
     "execution_count": 38,
     "metadata": {},
     "output_type": "execute_result"
    }
   ],
   "source": [
    "s2=\"python\"\n",
    "s2.center(20,'*')"
   ]
  },
  {
   "cell_type": "code",
   "execution_count": null,
   "id": "d8bf9b4d-9cf1-43ac-a8f9-0ab32a918e3f",
   "metadata": {},
   "outputs": [],
   "source": [
    "Defintion of compiler and interpreter\n",
    "Compiler= it translate the whole programm into maachine code at once and runs it\n",
    "Interpreter= it translate anf runs the program line by line"
   ]
  },
  {
   "cell_type": "code",
   "execution_count": null,
   "id": "1679a4f2-1f39-406b-ba20-b66bc7d4b579",
   "metadata": {},
   "outputs": [],
   "source": [
    "is python interpreted or compiled\n",
    "python ia an interpreted language beacause python code is excauted line by line by the line\n",
    "Interpreted= python code is first converted into bytecode and then excauted by the python virtual machine,not directly by the system's cpu"
   ]
  },
  {
   "cell_type": "code",
   "execution_count": null,
   "id": "fd17b723-9f6c-453b-9a0c-9d8471bb6c52",
   "metadata": {},
   "outputs": [],
   "source": [
    "Use case of python\n",
    "python is used in web  development,data science,automation,AI,and machine learning"
   ]
  }
 ],
 "metadata": {
  "kernelspec": {
   "display_name": "Python 3 (ipykernel)",
   "language": "python",
   "name": "python3"
  },
  "language_info": {
   "codemirror_mode": {
    "name": "ipython",
    "version": 3
   },
   "file_extension": ".py",
   "mimetype": "text/x-python",
   "name": "python",
   "nbconvert_exporter": "python",
   "pygments_lexer": "ipython3",
   "version": "3.13.5"
  }
 },
 "nbformat": 4,
 "nbformat_minor": 5
}
