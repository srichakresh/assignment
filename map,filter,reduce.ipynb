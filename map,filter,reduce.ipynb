{
 "cells": [
  {
   "cell_type": "code",
   "execution_count": 2,
   "id": "4e51e9db-adb5-4270-8981-9f93db73fb8e",
   "metadata": {},
   "outputs": [],
   "source": [
    "#Convert a list of strings to uppercase\n",
    "\n",
    "#words = ['python', 'is', 'awesome']\n",
    "#Output: ['PYTHON', 'IS', 'AWES\n",
    "words = ['python', 'is', 'awesome']\n",
    "uppercase=list(map(str.upper,words))"
   ]
  },
  {
   "cell_type": "code",
   "execution_count": 3,
   "id": "6640f3bf-707d-4632-8f38-34ea3ad57796",
   "metadata": {},
   "outputs": [
    {
     "data": {
      "text/plain": [
       "['PYTHON', 'IS', 'AWESOME']"
      ]
     },
     "execution_count": 3,
     "metadata": {},
     "output_type": "execute_result"
    }
   ],
   "source": [
    "uppercase"
   ]
  },
  {
   "cell_type": "code",
   "execution_count": 4,
   "id": "ad9c5182-0626-4d15-a7da-b6276cb65c20",
   "metadata": {},
   "outputs": [],
   "source": [
    "#Square all numbers in a list\n",
    "\n",
    "#numbers = [1, 2, 3, 4]\n",
    "#utput: [1, 4, 9, 16]\n",
    "numbers = [1, 2, 3, 4]\n",
    "square=list(map(lambda x:x**2,numbers))"
   ]
  },
  {
   "cell_type": "code",
   "execution_count": 5,
   "id": "081b1c14-72c0-45e6-a29a-2653acf500bd",
   "metadata": {},
   "outputs": [
    {
     "data": {
      "text/plain": [
       "[1, 4, 9, 16]"
      ]
     },
     "execution_count": 5,
     "metadata": {},
     "output_type": "execute_result"
    }
   ],
   "source": [
    "square"
   ]
  },
  {
   "cell_type": "code",
   "execution_count": 6,
   "id": "e097865e-95d4-4eb4-bb08-a2e749103c73",
   "metadata": {},
   "outputs": [
    {
     "data": {
      "text/plain": [
       "[55, 65, 75]"
      ]
     },
     "execution_count": 6,
     "metadata": {},
     "output_type": "execute_result"
    }
   ],
   "source": [
    "#Add 5 to each element in a list\n",
    "#marks = [50, 60, 70]\n",
    "#Output: [55, 65, 75]\n",
    "marks=[50,60,70]\n",
    "add=list(map(lambda x: x+5,marks))\n",
    "add"
   ]
  },
  {
   "cell_type": "markdown",
   "id": "107de95f-0ace-4730-a670-65972e647584",
   "metadata": {},
   "source": [
    "Get lengths of all strings in a list"
   ]
  },
  {
   "cell_type": "markdown",
   "id": "3c4268bb-c424-457c-a506-e59bbe491edb",
   "metadata": {},
   "source": [
    "names = ['apple', 'banana', 'kiwi'] Output: [5, 6, 4"
   ]
  },
  {
   "cell_type": "code",
   "execution_count": 7,
   "id": "f65b1847-a4d3-463e-a112-25d81df853b4",
   "metadata": {},
   "outputs": [],
   "source": [
    "names = ['apple', 'banana', 'kiwi']\n",
    "fruits=list(map(len,names))"
   ]
  },
  {
   "cell_type": "code",
   "execution_count": 8,
   "id": "73169431-c7bb-4b3e-94a3-da79304996ca",
   "metadata": {},
   "outputs": [
    {
     "data": {
      "text/plain": [
       "[5, 6, 4]"
      ]
     },
     "execution_count": 8,
     "metadata": {},
     "output_type": "execute_result"
    }
   ],
   "source": [
    "fruits"
   ]
  },
  {
   "cell_type": "markdown",
   "id": "32420a14-b376-4a19-b622-7ac696583842",
   "metadata": {},
   "source": [
    "       Filter out even number"
   ]
  },
  {
   "cell_type": "markdown",
   "id": "1f729b07-6776-4652-b86d-b2d143043f6d",
   "metadata": {},
   "source": [
    "nums = [1, 2, 3, 4, 5, 6] Output: [2, 4, 6]\n",
    "\n"
   ]
  },
  {
   "cell_type": "code",
   "execution_count": 9,
   "id": "7b58d7da-3572-4ad1-b8b8-d800422c57af",
   "metadata": {},
   "outputs": [],
   "source": [
    "nums = [1, 2, 3, 4, 5, 6] \n",
    "even=list(filter(lambda x:x%2==0,nums))"
   ]
  },
  {
   "cell_type": "code",
   "execution_count": 10,
   "id": "595552a2-c51a-4298-96c5-35b4ea49e240",
   "metadata": {},
   "outputs": [
    {
     "data": {
      "text/plain": [
       "[2, 4, 6]"
      ]
     },
     "execution_count": 10,
     "metadata": {},
     "output_type": "execute_result"
    }
   ],
   "source": [
    "even"
   ]
  },
  {
   "cell_type": "markdown",
   "id": "2233d032-bea8-4edf-8994-c923bd1fb8be",
   "metadata": {},
   "source": [
    "2.Keep only strings with more than 3 characters"
   ]
  },
  {
   "cell_type": "markdown",
   "id": "2a31f0a1-5d94-466a-b446-902d7c60814c",
   "metadata": {},
   "source": [
    "words = ['hi', 'hello', 'hey', 'sun'] Output: ['hello']"
   ]
  },
  {
   "cell_type": "code",
   "execution_count": 11,
   "id": "77c03c6e-911f-4428-a1b5-3fc45fd114b2",
   "metadata": {},
   "outputs": [],
   "source": [
    "words = ['hi', 'hello', 'hey', 'sun']\n",
    "greet=list(filter(lambda x: len(x) > 3,words))"
   ]
  },
  {
   "cell_type": "code",
   "execution_count": 12,
   "id": "97a5faa1-693a-4118-a5cb-5ae3d92ed9f1",
   "metadata": {},
   "outputs": [
    {
     "data": {
      "text/plain": [
       "['hello']"
      ]
     },
     "execution_count": 12,
     "metadata": {},
     "output_type": "execute_result"
    }
   ],
   "source": [
    "greet"
   ]
  },
  {
   "cell_type": "markdown",
   "id": "cb1ad6e8-fc14-43ca-b23b-d8f76101595f",
   "metadata": {},
   "source": [
    "    3.Remove empty strings from a list"
   ]
  },
  {
   "cell_type": "markdown",
   "id": "df000cfc-a843-4624-981d-0837885a0d3c",
   "metadata": {},
   "source": [
    "data = ['Python', '', 'Java', '', 'C++'] Output: ['Python', 'Java', 'C++']"
   ]
  },
  {
   "cell_type": "code",
   "execution_count": 14,
   "id": "ed015a93-0167-4f01-9bb6-d33cda32dbc0",
   "metadata": {},
   "outputs": [],
   "source": [
    "data = ['Python', '', 'Java', '', 'C++']\n",
    "empty=list(filter(None,data))"
   ]
  },
  {
   "cell_type": "code",
   "execution_count": 15,
   "id": "aef01c1e-e06c-436b-9eaf-1ac9709542fe",
   "metadata": {},
   "outputs": [
    {
     "data": {
      "text/plain": [
       "['Python', 'Java', 'C++']"
      ]
     },
     "execution_count": 15,
     "metadata": {},
     "output_type": "execute_result"
    }
   ],
   "source": [
    "empty"
   ]
  },
  {
   "cell_type": "markdown",
   "id": "90052c0f-ea5b-4a51-8971-d649c0786f62",
   "metadata": {},
   "source": [
    "4.Get names that start with 'A' names = ['Alice', 'Bob', 'Angela', 'Tom'] Output: ['Alice', 'Angela']"
   ]
  },
  {
   "cell_type": "code",
   "execution_count": 16,
   "id": "6f2dec4c-3901-4723-a612-3ac02bf9269d",
   "metadata": {},
   "outputs": [],
   "source": [
    "names = ['Alice', 'Bob', 'Angela', 'Tom']\n",
    "start=list(filter(lambda x:x.startswith('A'),names))\n",
    "           "
   ]
  },
  {
   "cell_type": "code",
   "execution_count": 17,
   "id": "ebc84c4a-6802-43ca-a88b-d184a233219c",
   "metadata": {},
   "outputs": [
    {
     "data": {
      "text/plain": [
       "['Alice', 'Angela']"
      ]
     },
     "execution_count": 17,
     "metadata": {},
     "output_type": "execute_result"
    }
   ],
   "source": [
    "start"
   ]
  },
  {
   "cell_type": "markdown",
   "id": "a115ad3e-14ef-42aa-ae57-737996b3d65d",
   "metadata": {},
   "source": [
    "      5. Keep truthy values only"
   ]
  },
  {
   "cell_type": "markdown",
   "id": "8914c340-dccd-4e53-9798-15ee4efe698a",
   "metadata": {},
   "source": [
    "items = [0, None, 'hello', False, 42, ''] Output: ['hello', 42]"
   ]
  },
  {
   "cell_type": "code",
   "execution_count": 18,
   "id": "3063c1c4-49d0-49c5-be4f-0db4a879ec12",
   "metadata": {},
   "outputs": [],
   "source": [
    "items = [0, None, 'hello', False, 42, '']\n",
    "truthy=list(filter(None,items))"
   ]
  },
  {
   "cell_type": "code",
   "execution_count": 19,
   "id": "96f476fe-0099-4f33-b821-6156cbd085f3",
   "metadata": {},
   "outputs": [
    {
     "data": {
      "text/plain": [
       "['hello', 42]"
      ]
     },
     "execution_count": 19,
     "metadata": {},
     "output_type": "execute_result"
    }
   ],
   "source": [
    "truthy"
   ]
  },
  {
   "cell_type": "markdown",
   "id": "6cbcf362-bc7f-4d46-a006-72c7d215a878",
   "metadata": {},
   "source": [
    "    6.Sum of all numbers"
   ]
  },
  {
   "cell_type": "markdown",
   "id": "1f148b74-2e65-47ba-8af2-4b997bd6720a",
   "metadata": {},
   "source": [
    "nums = [1, 2, 3, 4] Output: 10"
   ]
  },
  {
   "cell_type": "code",
   "execution_count": 20,
   "id": "ac4999db-1de7-4733-a5d7-490908f8ed2c",
   "metadata": {},
   "outputs": [],
   "source": [
    "from functools import reduce"
   ]
  },
  {
   "cell_type": "code",
   "execution_count": 21,
   "id": "55d1e6c7-e69d-4f9e-bba1-32c786c6f0e0",
   "metadata": {},
   "outputs": [],
   "source": [
    "nums = [1, 2, 3, 4]\n",
    "sum= reduce(lambda x, y: x + y, nums)"
   ]
  },
  {
   "cell_type": "code",
   "execution_count": 22,
   "id": "a2ac20dc-7f78-4233-8c28-eeb14b7e39d0",
   "metadata": {},
   "outputs": [
    {
     "data": {
      "text/plain": [
       "10"
      ]
     },
     "execution_count": 22,
     "metadata": {},
     "output_type": "execute_result"
    }
   ],
   "source": [
    "sum"
   ]
  },
  {
   "cell_type": "markdown",
   "id": "26fc816e-acbb-476c-b191-18c2d2895930",
   "metadata": {},
   "source": [
    "    7.Product of all even numbers nums = [1, 2, 3, 4, 5] Filter even → [2, 4] Reduce → 8"
   ]
  },
  {
   "cell_type": "code",
   "execution_count": 24,
   "id": "47047ba7-5b9e-4f6a-b0e2-6b8af841b394",
   "metadata": {},
   "outputs": [],
   "source": [
    "nums = [1, 2, 3, 4, 5]\n",
    "even=list(filter(lambda x: x%2==0,nums))\n",
    "product = reduce(lambda x, y: x * y,even)"
   ]
  },
  {
   "cell_type": "code",
   "execution_count": 25,
   "id": "cbe7a83d-e94c-4e0e-afe7-8b3d5f636a8b",
   "metadata": {},
   "outputs": [
    {
     "data": {
      "text/plain": [
       "8"
      ]
     },
     "execution_count": 25,
     "metadata": {},
     "output_type": "execute_result"
    }
   ],
   "source": [
    "product"
   ]
  },
  {
   "cell_type": "code",
   "execution_count": 26,
   "id": "d37b90f9-1894-494c-b382-4674f1632162",
   "metadata": {},
   "outputs": [
    {
     "data": {
      "text/plain": [
       "10"
      ]
     },
     "execution_count": 26,
     "metadata": {},
     "output_type": "execute_result"
    }
   ],
   "source": [
    "sum"
   ]
  },
  {
   "cell_type": "markdown",
   "id": "4c727160-888d-4948-ab7e-b087528a2b51",
   "metadata": {},
   "source": [
    "\n",
    "     8.Find the longest word words = ['apple', 'banana', 'kiwi'] Output: 'banana'"
   ]
  },
  {
   "cell_type": "code",
   "execution_count": 27,
   "id": "691d1076-339b-46f6-a54b-82382672060e",
   "metadata": {},
   "outputs": [],
   "source": [
    "words = ['apple', 'banana', 'kiwi']\n",
    "longest = reduce(lambda x, y: x if len(x) > len(y) else y, words)"
   ]
  },
  {
   "cell_type": "code",
   "execution_count": 28,
   "id": "14add68e-bf4f-4e2d-8340-67d2ecf8d2f7",
   "metadata": {},
   "outputs": [
    {
     "data": {
      "text/plain": [
       "'banana'"
      ]
     },
     "execution_count": 28,
     "metadata": {},
     "output_type": "execute_result"
    }
   ],
   "source": [
    "longest"
   ]
  },
  {
   "cell_type": "markdown",
   "id": "580f6119-d557-4a03-9189-9a7a18dc43de",
   "metadata": {},
   "source": [
    "Join list of strings into one sentence words = ['Python', 'is', 'fun'] Output: 'Python is fun'"
   ]
  },
  {
   "cell_type": "code",
   "execution_count": 29,
   "id": "9de615ca-fe0b-4c47-950f-0425840397ea",
   "metadata": {},
   "outputs": [],
   "source": [
    "words = ['Python', 'is', 'fun']\n",
    "sentence=reduce(lambda x,y:x +\" \"+y,words)"
   ]
  },
  {
   "cell_type": "code",
   "execution_count": 31,
   "id": "30ac1227-b732-4941-931d-a54b8912ce5c",
   "metadata": {},
   "outputs": [
    {
     "data": {
      "text/plain": [
       "'Python is fun'"
      ]
     },
     "execution_count": 31,
     "metadata": {},
     "output_type": "execute_result"
    }
   ],
   "source": [
    "sentence"
   ]
  },
  {
   "cell_type": "markdown",
   "id": "0a497fa0-1521-4c5e-908e-6c2348ae4e98",
   "metadata": {},
   "source": [
    "      9.Create number from digits"
   ]
  },
  {
   "cell_type": "markdown",
   "id": "3139643a-14d9-43e7-9f39-c08e299b4d31",
   "metadata": {},
   "source": [
    "digits = [1, 2, 3, 4] Output: 1234"
   ]
  },
  {
   "cell_type": "code",
   "execution_count": 34,
   "id": "bc42d80d-cd1b-4776-b942-055807b5962e",
   "metadata": {},
   "outputs": [],
   "source": [
    "digits = [1, 2, 3, 4]\n",
    "number = reduce(lambda x, y: x * 10 + y, digits)"
   ]
  },
  {
   "cell_type": "code",
   "execution_count": 35,
   "id": "6b78ede3-d464-4b89-b7eb-20e0705ebb34",
   "metadata": {},
   "outputs": [
    {
     "data": {
      "text/plain": [
       "1234"
      ]
     },
     "execution_count": 35,
     "metadata": {},
     "output_type": "execute_result"
    }
   ],
   "source": [
    "number"
   ]
  },
  {
   "cell_type": "code",
   "execution_count": null,
   "id": "cd33871e-c5be-4e7e-95de-ba18c60ad33d",
   "metadata": {},
   "outputs": [],
   "source": []
  }
 ],
 "metadata": {
  "kernelspec": {
   "display_name": "Python 3 (ipykernel)",
   "language": "python",
   "name": "python3"
  },
  "language_info": {
   "codemirror_mode": {
    "name": "ipython",
    "version": 3
   },
   "file_extension": ".py",
   "mimetype": "text/x-python",
   "name": "python",
   "nbconvert_exporter": "python",
   "pygments_lexer": "ipython3",
   "version": "3.13.5"
  }
 },
 "nbformat": 4,
 "nbformat_minor": 5
}
