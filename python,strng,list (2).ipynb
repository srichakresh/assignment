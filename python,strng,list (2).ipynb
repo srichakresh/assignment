{
 "cells": [
  {
   "cell_type": "code",
   "execution_count": 2,
   "id": "42307b5f-21f2-4eda-8141-030e7d9945a8",
   "metadata": {},
   "outputs": [
    {
     "name": "stdout",
     "output_type": "stream",
     "text": [
      "This is chakresh\n",
      "16\n"
     ]
    }
   ],
   "source": [
    "#create a string variable and print its length.\n",
    "str = \"This is chakresh\"\n",
    "print(str)\n",
    "str_len = len(str)\n",
    "print(str_len)\n",
    "     "
   ]
  },
  {
   "cell_type": "code",
   "execution_count": 4,
   "id": "601d33eb-3793-4c13-8f50-b9891dcabe35",
   "metadata": {},
   "outputs": [
    {
     "name": "stdin",
     "output_type": "stream",
     "text": [
      "Enter a string:  hserkahc\n"
     ]
    },
    {
     "name": "stdout",
     "output_type": "stream",
     "text": [
      "chakresh\n"
     ]
    }
   ],
   "source": [
    "#take a string input from the user and print it in reverse.\n",
    "str = input(\"Enter a string: \")\n",
    "print(str[::-1])"
   ]
  },
  {
   "cell_type": "code",
   "execution_count": 6,
   "id": "23574d9c-64fc-4e7b-bd02-2a8b4dfb1c38",
   "metadata": {},
   "outputs": [
    {
     "name": "stdin",
     "output_type": "stream",
     "text": [
      "Enter a string:  anaconda\n"
     ]
    },
    {
     "name": "stdout",
     "output_type": "stream",
     "text": [
      "@n@cond@\n"
     ]
    }
   ],
   "source": [
    "#Replace all occurrences of\"a\" with \"@\" in a given string.\n",
    "str = input(\"Enter a string: \")\n",
    "str = str.replace(\"a\",\"@\")\n",
    "print(str)"
   ]
  },
  {
   "cell_type": "code",
   "execution_count": 7,
   "id": "469349ae-f5fd-4f8f-8e50-236e54c46270",
   "metadata": {},
   "outputs": [
    {
     "name": "stdin",
     "output_type": "stream",
     "text": [
      "Enter a string:  this is chakresh\n"
     ]
    },
    {
     "name": "stdout",
     "output_type": "stream",
     "text": [
      "THIS IS CHAKRESH\n"
     ]
    }
   ],
   "source": [
    "#convert a string to all upper case letters using a loop(without .upper()).\n",
    "def to_uppercase(s):\n",
    "    result= \"\"\n",
    "    for char in s:\n",
    "        if 'a' <= char <= 'z':\n",
    "            upper_char = chr(ord(char) - 32)\n",
    "            result += upper_char\n",
    "        else:\n",
    "            result += char\n",
    "    return result\n",
    "input_str = input(\"Enter a string: \")\n",
    "output_str = to_uppercase(input_str)\n",
    "print(output_str)"
   ]
  },
  {
   "cell_type": "code",
   "execution_count": 8,
   "id": "701b6862-92f8-4a73-9858-c6cf7f1bc9af",
   "metadata": {},
   "outputs": [
    {
     "name": "stdout",
     "output_type": "stream",
     "text": [
      "the character 'e' appears 3times in the string.\n"
     ]
    }
   ],
   "source": [
    "#count how many times the letter \"e\" appears in a string.\n",
    "str = \"the quick brown fox jumps over the lazy dog.\"\n",
    "char_to_find =\"e\"\n",
    "count = str.count(char_to_find)\n",
    "print(f\"the character '{char_to_find}' appears {count}times in the string.\")\n",
    "\n"
   ]
  },
  {
   "cell_type": "code",
   "execution_count": 9,
   "id": "e44294d8-a5c8-4bdf-9093-d1778676f513",
   "metadata": {},
   "outputs": [
    {
     "name": "stdin",
     "output_type": "stream",
     "text": [
      "Enter a string:  datascience\n"
     ]
    },
    {
     "name": "stdout",
     "output_type": "stream",
     "text": [
      "First character: d\n",
      "Last character: e\n"
     ]
    }
   ],
   "source": [
    "# print the first and last character of a given string\n",
    "str = input(\"Enter a string: \")\n",
    "first_char = str[0]\n",
    "last_char = str[-1]\n",
    "print(f\"First character: {first_char}\")\n",
    "print(f\"Last character: {last_char}\")\n",
    "     "
   ]
  },
  {
   "cell_type": "code",
   "execution_count": 10,
   "id": "41c847b6-0fb5-4e51-a510-e89aa535b647",
   "metadata": {},
   "outputs": [
    {
     "name": "stdin",
     "output_type": "stream",
     "text": [
      "Enter a string:  aim\n",
      "Enter a string:  nxt\n"
     ]
    },
    {
     "name": "stdout",
     "output_type": "stream",
     "text": [
      "aimnxt\n"
     ]
    }
   ],
   "source": [
    "#concatenate two strings and print the result.\n",
    "str1 = input(\"Enter a string: \")\n",
    "str2 = input(\"Enter a string: \")\n",
    "result = str1 + str2\n",
    "print(result)"
   ]
  },
  {
   "cell_type": "code",
   "execution_count": 13,
   "id": "fd152098-fd92-40f4-b125-ff6b1edaca3d",
   "metadata": {},
   "outputs": [
    {
     "name": "stdin",
     "output_type": "stream",
     "text": [
      "Enter a string:  chakresh\n"
     ]
    },
    {
     "name": "stdout",
     "output_type": "stream",
     "text": [
      "The string does not contain the word 'python'.\n"
     ]
    }
   ],
   "source": [
    "#check if a given string contains the word \"python\".\n",
    "str = input(\"Enter a string: \")\n",
    "if \"python\" in str:\n",
    "    print(\"The string contains the word 'python'.\")\n",
    "else:\n",
    "    print(\"The string does not contain the word 'python'.\")\n",
    "    "
   ]
  },
  {
   "cell_type": "code",
   "execution_count": 14,
   "id": "e2a2e73c-e9a7-44ce-9395-c7df825bf81e",
   "metadata": {},
   "outputs": [
    {
     "name": "stdin",
     "output_type": "stream",
     "text": [
      "Enter a string:  chakresh\n"
     ]
    },
    {
     "name": "stdout",
     "output_type": "stream",
     "text": [
      "chakresh\n"
     ]
    }
   ],
   "source": [
    "#remove all spaces from a string and print the new string.\n",
    "str = input(\"Enter a string: \")\n",
    "str = str.replace(\" \",\"\")\n",
    "print(str)\n"
   ]
  },
  {
   "cell_type": "code",
   "execution_count": 17,
   "id": "c986ded6-8458-4eb4-828f-730cc38b2c0a",
   "metadata": {},
   "outputs": [
    {
     "name": "stdin",
     "output_type": "stream",
     "text": [
      "Enter a string:  matplolib\n"
     ]
    },
    {
     "name": "stdout",
     "output_type": "stream",
     "text": [
      "matpl\n"
     ]
    }
   ],
   "source": [
    "#Extract and print the first five characters of the string.\n",
    "str = input(\"Enter a string: \")\n",
    "print(str[:5])\n"
   ]
  },
  {
   "cell_type": "code",
   "execution_count": 16,
   "id": "3450e891-6bb1-4b9a-81e6-84dab8801c33",
   "metadata": {},
   "outputs": [
    {
     "name": "stdout",
     "output_type": "stream",
     "text": [
      "[1, 2, 3, 4, 5]\n"
     ]
    }
   ],
   "source": [
    "#create a list of five numbers and print the list.\n",
    "list = [1,2,3,4,5]\n",
    "print(list)\n",
    "\n"
   ]
  },
  {
   "cell_type": "code",
   "execution_count": 18,
   "id": "c289fb44-d013-41c7-a626-4eab21cdf16e",
   "metadata": {},
   "outputs": [
    {
     "name": "stdout",
     "output_type": "stream",
     "text": [
      "3\n"
     ]
    }
   ],
   "source": [
    "#print the third element of a given list.\n",
    "list = [1,2,3,4,5]\n",
    "print(list[2])\n",
    "     \n",
    "\n"
   ]
  },
  {
   "cell_type": "code",
   "execution_count": 19,
   "id": "e88ce9cf-666c-4f44-908c-051b87bd4e2b",
   "metadata": {},
   "outputs": [
    {
     "name": "stdout",
     "output_type": "stream",
     "text": [
      "[1, 'hello', 3, 4, 5]\n"
     ]
    }
   ],
   "source": [
    "#Replace the second element of a list with \"hello\".\n",
    "list = [1,2,3,4,5]\n",
    "list[1] = \"hello\"\n",
    "print(list)\n",
    "     "
   ]
  },
  {
   "cell_type": "code",
   "execution_count": 20,
   "id": "9f3a4c7a-e2aa-4256-a826-51c655caacd2",
   "metadata": {},
   "outputs": [
    {
     "name": "stdout",
     "output_type": "stream",
     "text": [
      "[1, 2, 3, 4, 5, 6]\n"
     ]
    }
   ],
   "source": [
    "#add a new element to the end of a list.\n",
    "list = [1,2,3,4,5]\n",
    "list.append(6)\n",
    "print(list)\n",
    "     "
   ]
  },
  {
   "cell_type": "code",
   "execution_count": 21,
   "id": "112b4ee3-a2df-478b-9fb5-817846b11dcb",
   "metadata": {},
   "outputs": [
    {
     "name": "stdout",
     "output_type": "stream",
     "text": [
      "[1, 2, 3, 4]\n"
     ]
    }
   ],
   "source": [
    "#remove the last element from a list and print the modified list.\n",
    "list = [1,2,3,4,5]\n",
    "list.pop()\n",
    "print(list)"
   ]
  },
  {
   "cell_type": "code",
   "execution_count": 22,
   "id": "1522cb55-3a58-4ec0-b751-510d7e5a42c7",
   "metadata": {},
   "outputs": [
    {
     "name": "stdout",
     "output_type": "stream",
     "text": [
      "1\n",
      "2\n",
      "3\n",
      "4\n",
      "5\n"
     ]
    }
   ],
   "source": [
    "#Print each element of a list one by one using a loop.\n",
    "list = [1,2,3,4,5]\n",
    "for i in list:\n",
    "    print(i)"
   ]
  },
  {
   "cell_type": "code",
   "execution_count": 24,
   "id": "b6b84925-72bb-42a8-bd7f-91fa75459be8",
   "metadata": {},
   "outputs": [
    {
     "name": "stdout",
     "output_type": "stream",
     "text": [
      "10 is not in the list.\n"
     ]
    }
   ],
   "source": [
    "#Check if the number 10 is in a given list.\n",
    "list = [1,2,3,4,5]\n",
    "if 10 in list:\n",
    "    print(\"10 is in the list.\")\n",
    "else:\n",
    "    print(\"10 is not in the list.\")"
   ]
  },
  {
   "cell_type": "code",
   "execution_count": 25,
   "id": "51915cf6-8003-4778-8c44-2b6f0c807fa0",
   "metadata": {},
   "outputs": [
    {
     "name": "stdout",
     "output_type": "stream",
     "text": [
      "[1, 2, 3, 4, 5, 6, 7, 8, 9, 10]\n"
     ]
    }
   ],
   "source": [
    "#.Create two lists and join them into one.\n",
    "list1 = [1,2,3,4,5]\n",
    "list2 = [6,7,8,9,10]\n",
    "list1.extend(list2)\n",
    "print(list1)"
   ]
  },
  {
   "cell_type": "code",
   "execution_count": 26,
   "id": "791eb63d-8e98-469d-aa3c-b3c4566da714",
   "metadata": {},
   "outputs": [
    {
     "name": "stdout",
     "output_type": "stream",
     "text": [
      "[5, 4, 3, 2, 1]\n"
     ]
    }
   ],
   "source": [
    "#Print a list in reverse order without using slicing ([::-1]).\n",
    "list = [1,2,3,4,5]\n",
    "list.reverse()\n",
    "print(list)\n",
    "     "
   ]
  },
  {
   "cell_type": "code",
   "execution_count": 27,
   "id": "6eb521a8-337f-4cb2-aa80-34e83de1d271",
   "metadata": {},
   "outputs": [
    {
     "name": "stdout",
     "output_type": "stream",
     "text": [
      "[1, 2, 3, 4, 5]\n"
     ]
    }
   ],
   "source": [
    "#Sort a list in ascending order without using .sort().\n",
    "list = [5,4,3,2,1]\n",
    "for i in range(len(list)):\n",
    "    for j in range(i+1,len(list)):\n",
    "        if list[i] > list[j]:\n",
    "            list[i],list[j] = list[j],list[i]\n",
    "print(list)"
   ]
  },
  {
   "cell_type": "code",
   "execution_count": 28,
   "id": "33968a50-d8ac-4ea9-bf5b-5aa4e13be18d",
   "metadata": {},
   "outputs": [
    {
     "name": "stdout",
     "output_type": "stream",
     "text": [
      "('red', 'green', 'blue')\n"
     ]
    }
   ],
   "source": [
    "#Create a tuple of three colors and print it.\n",
    "tuple = (\"red\",\"green\",\"blue\")\n",
    "print(tuple)"
   ]
  },
  {
   "cell_type": "code",
   "execution_count": 29,
   "id": "b379bfbb-f15a-4076-9aa1-ab73c1a6ccac",
   "metadata": {},
   "outputs": [
    {
     "name": "stdout",
     "output_type": "stream",
     "text": [
      "green\n"
     ]
    }
   ],
   "source": [
    "#Print the second element of a given tuple.\n",
    "tuple = (\"red\",\"green\",\"blue\")\n",
    "print(tuple[1])"
   ]
  },
  {
   "cell_type": "code",
   "execution_count": 30,
   "id": "4781544a-b819-4adf-8cae-abff6b2fec41",
   "metadata": {},
   "outputs": [
    {
     "ename": "TypeError",
     "evalue": "'tuple' object does not support item assignment",
     "output_type": "error",
     "traceback": [
      "\u001b[1;31m---------------------------------------------------------------------------\u001b[0m",
      "\u001b[1;31mTypeError\u001b[0m                                 Traceback (most recent call last)",
      "Cell \u001b[1;32mIn[30], line 3\u001b[0m\n\u001b[0;32m      1\u001b[0m \u001b[38;5;66;03m#Try changing an element in a tuple (observe the error).\u001b[39;00m\n\u001b[0;32m      2\u001b[0m \u001b[38;5;28mtuple\u001b[39m \u001b[38;5;241m=\u001b[39m (\u001b[38;5;124m\"\u001b[39m\u001b[38;5;124mred\u001b[39m\u001b[38;5;124m\"\u001b[39m,\u001b[38;5;124m\"\u001b[39m\u001b[38;5;124mgreen\u001b[39m\u001b[38;5;124m\"\u001b[39m,\u001b[38;5;124m\"\u001b[39m\u001b[38;5;124mblue\u001b[39m\u001b[38;5;124m\"\u001b[39m)\n\u001b[1;32m----> 3\u001b[0m \u001b[38;5;28mtuple\u001b[39m[\u001b[38;5;241m1\u001b[39m] \u001b[38;5;241m=\u001b[39m \u001b[38;5;124m\"\u001b[39m\u001b[38;5;124myellow\u001b[39m\u001b[38;5;124m\"\u001b[39m\n",
      "\u001b[1;31mTypeError\u001b[0m: 'tuple' object does not support item assignment"
     ]
    }
   ],
   "source": [
    "#Try changing an element in a tuple (observe the error).\n",
    "tuple = (\"red\",\"green\",\"blue\")\n",
    "tuple[1] = \"yellow\""
   ]
  },
  {
   "cell_type": "code",
   "execution_count": 32,
   "id": "f35001ce-1417-477a-a6cc-01cacad6e3a1",
   "metadata": {},
   "outputs": [
    {
     "ename": "TypeError",
     "evalue": "'list' object is not callable",
     "output_type": "error",
     "traceback": [
      "\u001b[1;31m---------------------------------------------------------------------------\u001b[0m",
      "\u001b[1;31mTypeError\u001b[0m                                 Traceback (most recent call last)",
      "Cell \u001b[1;32mIn[32], line 3\u001b[0m\n\u001b[0;32m      1\u001b[0m \u001b[38;5;66;03m#Convert a tuple to a list and print it.\u001b[39;00m\n\u001b[0;32m      2\u001b[0m my_tuple \u001b[38;5;241m=\u001b[39m (\u001b[38;5;124m\"\u001b[39m\u001b[38;5;124mred\u001b[39m\u001b[38;5;124m\"\u001b[39m, \u001b[38;5;124m\"\u001b[39m\u001b[38;5;124mgreen\u001b[39m\u001b[38;5;124m\"\u001b[39m, \u001b[38;5;124m\"\u001b[39m\u001b[38;5;124mblue\u001b[39m\u001b[38;5;124m\"\u001b[39m)\n\u001b[1;32m----> 3\u001b[0m my_list \u001b[38;5;241m=\u001b[39m \u001b[38;5;28mlist\u001b[39m(my_tuple)\n\u001b[0;32m      4\u001b[0m \u001b[38;5;28mprint\u001b[39m(my_list)\n",
      "\u001b[1;31mTypeError\u001b[0m: 'list' object is not callable"
     ]
    }
   ],
   "source": [
    "#Convert a tuple to a list and print it.\n",
    "my_tuple = (\"red\", \"green\", \"blue\")\n",
    "my_list = list(my_tuple)\n",
    "print(my_list)"
   ]
  },
  {
   "cell_type": "code",
   "execution_count": 33,
   "id": "63e3af4e-2b3e-4c01-baa4-f467c5482574",
   "metadata": {},
   "outputs": [
    {
     "name": "stdout",
     "output_type": "stream",
     "text": [
      "blue exists in the tuple\n"
     ]
    }
   ],
   "source": [
    "#Check if \"blue\" exists in a given tuple.\n",
    "my_tuple = (\"red\", \"green\", \"blue\")\n",
    "if \"blue\" in my_tuple:\n",
    "    print(\"blue exists in the tuple\")\n",
    "else:\n",
    "    print(\"blue does not exist in the tuple\")"
   ]
  },
  {
   "cell_type": "code",
   "execution_count": 34,
   "id": "6b894ef8-deaa-467b-a0b0-84143ec31b01",
   "metadata": {},
   "outputs": [
    {
     "name": "stdout",
     "output_type": "stream",
     "text": [
      "red\n",
      "green\n",
      "blue\n"
     ]
    }
   ],
   "source": [
    "#Print each element of a tuple using a loop.\n",
    "my_tuple = (\"red\", \"green\", \"blue\")\n",
    "for element in my_tuple:\n",
    "    print(element)"
   ]
  },
  {
   "cell_type": "code",
   "execution_count": 35,
   "id": "42643a05-63d9-4e15-a0cf-6a365136a936",
   "metadata": {},
   "outputs": [
    {
     "name": "stdout",
     "output_type": "stream",
     "text": [
      "(1, 2, 3, 4, 5, 6)\n"
     ]
    }
   ],
   "source": [
    "#Merge two tuples and print the result.\n",
    "tuple1 = (1,2,3)\n",
    "tuple2 = (4,5,6)\n",
    "tuple3 = tuple1 + tuple2\n",
    "print(tuple3)"
   ]
  },
  {
   "cell_type": "code",
   "execution_count": 36,
   "id": "3a5eca15-7a22-4bda-ab94-033f4d3c4003",
   "metadata": {},
   "outputs": [
    {
     "name": "stdout",
     "output_type": "stream",
     "text": [
      "(5, 4, 3, 2, 1)\n"
     ]
    }
   ],
   "source": [
    "#Print a tuple in reverse order.\n",
    "my_tuple = (1, 2, 3, 4, 5)\n",
    "reversed_tuple = my_tuple[::-1]\n",
    "print(reversed_tuple)\n",
    "     \n"
   ]
  },
  {
   "cell_type": "code",
   "execution_count": 37,
   "id": "44226c1c-5565-47df-a27e-37332e56dfbb",
   "metadata": {},
   "outputs": [
    {
     "name": "stdout",
     "output_type": "stream",
     "text": [
      "5\n"
     ]
    }
   ],
   "source": [
    "#Find the length of a tuple without using len().\n",
    "my_tuple = (1, 2, 3, 4, 5)\n",
    "count = 0\n",
    "for _ in my_tuple:\n",
    "    count += 1\n",
    "print(count)\n"
   ]
  },
  {
   "cell_type": "code",
   "execution_count": 38,
   "id": "016dd138-c8ec-41bf-b059-eed1b5211401",
   "metadata": {},
   "outputs": [
    {
     "name": "stdout",
     "output_type": "stream",
     "text": [
      "<class 'tuple'>\n"
     ]
    }
   ],
   "source": [
    "#Create a tuple with a single element and print its type.\n",
    "my_tuple = (1,)\n",
    "print(type(my_tuple))\n",
    "     "
   ]
  },
  {
   "cell_type": "code",
   "execution_count": 40,
   "id": "ba26adff-03a2-404f-9fbc-677eed6f4d91",
   "metadata": {},
   "outputs": [
    {
     "name": "stdout",
     "output_type": "stream",
     "text": [
      "World!\n"
     ]
    }
   ],
   "source": [
    "#Create a string \"Hello, World!\" and print only \"World!\".\n",
    "str = \"Hello, World!\"\n",
    "print(str[7:])"
   ]
  },
  {
   "cell_type": "code",
   "execution_count": 41,
   "id": "7b00703e-18bb-472a-b7f5-7df1a9288c71",
   "metadata": {},
   "outputs": [
    {
     "name": "stdout",
     "output_type": "stream",
     "text": [
      "PYTHON IS FUN\n"
     ]
    }
   ],
   "source": [
    "#Convert \"Python is fun\" to \"PYTHON IS FUN\" without using .upper().\n",
    "str = \"Python is fun\"\n",
    "new_str = \"\"\n",
    "for char in str:\n",
    "    if 'a' <= char <= 'z':\n",
    "        new_str += chr(ord(char) - 32)\n",
    "    else:\n",
    "        new_str += char\n",
    "print(new_str)"
   ]
  },
  {
   "cell_type": "code",
   "execution_count": 42,
   "id": "12a51a68-2fd9-4e8c-807a-83cd49d9ab81",
   "metadata": {},
   "outputs": [
    {
     "name": "stdout",
     "output_type": "stream",
     "text": [
      "4\n"
     ]
    }
   ],
   "source": [
    "#Count how many words are in \"I love learning Python\" (without using .split()).\n",
    "str = \"I love learning Python\"\n",
    "count = 0\n",
    "for char in str:\n",
    "    if char == \" \":\n",
    "        count += 1\n",
    "count += 1\n",
    "print(count)"
   ]
  },
  {
   "cell_type": "code",
   "execution_count": 43,
   "id": "c4feb8e8-43cd-4c6e-9452-bc8570ab4380",
   "metadata": {},
   "outputs": [
    {
     "name": "stdin",
     "output_type": "stream",
     "text": [
      "Enter a string:  world\n"
     ]
    },
    {
     "name": "stdout",
     "output_type": "stream",
     "text": [
      "The string does not start with 'Hello'.\n"
     ]
    }
   ],
   "source": [
    "#Take a string input from the user and check if it starts with \"Hello\".\n",
    "str = input(\"Enter a string: \")\n",
    "if str.startswith(\"Hello\"):\n",
    "    print(\"The string starts with 'Hello'.\")\n",
    "else:\n",
    "    print(\"The string does not start with 'Hello'.\")"
   ]
  },
  {
   "cell_type": "code",
   "execution_count": 45,
   "id": "bcf67211-57c4-40d0-a8e8-1a82f35d6ec1",
   "metadata": {},
   "outputs": [
    {
     "name": "stdin",
     "output_type": "stream",
     "text": [
      "Enter a string:  aimnxt\n"
     ]
    },
    {
     "name": "stdout",
     "output_type": "stream",
     "text": [
      "amx\n"
     ]
    }
   ],
   "source": [
    "#Print every second character of a string.\n",
    "str = input(\"Enter a string: \")\n",
    "print(str[::2])\n",
    "     "
   ]
  },
  {
   "cell_type": "code",
   "execution_count": 46,
   "id": "9c372936-0b05-4139-923a-e1501a2e6624",
   "metadata": {},
   "outputs": [
    {
     "name": "stdin",
     "output_type": "stream",
     "text": [
      "Enter a string:  datascience\n"
     ]
    },
    {
     "name": "stdout",
     "output_type": "stream",
     "text": [
      "d*t*sc**nc*\n"
     ]
    }
   ],
   "source": [
    "#Replace all vowels in a string with \"*\".\n",
    "str = input(\"Enter a string: \")\n",
    "vowels = \"aeiouAEIOU\"\n",
    "new_str = \"\"\n",
    "for char in str:\n",
    "    if char in vowels:\n",
    "        new_str += \"*\"\n",
    "    else:\n",
    "        new_str += char\n",
    "print(new_str)"
   ]
  },
  {
   "cell_type": "code",
   "execution_count": 47,
   "id": "5a7ba7ad-7a28-44ec-afc2-906d625e3051",
   "metadata": {},
   "outputs": [
    {
     "name": "stdin",
     "output_type": "stream",
     "text": [
      "Enter a string:  chakresh\n"
     ]
    },
    {
     "name": "stdout",
     "output_type": "stream",
     "text": [
      "hhakresc\n"
     ]
    }
   ],
   "source": [
    "#Swap the first and last character of a string.\n",
    "str = input(\"Enter a string: \")\n",
    "first_char = str[0]\n",
    "last_char = str[-1]\n",
    "middle_chars = str[1:-1]\n",
    "new_str = last_char + middle_chars + first_char\n",
    "print(new_str)"
   ]
  },
  {
   "cell_type": "code",
   "execution_count": 48,
   "id": "07893a32-d214-405b-a6b6-65809ad5c2f4",
   "metadata": {},
   "outputs": [
    {
     "name": "stdin",
     "output_type": "stream",
     "text": [
      "Enter a string:  sree\n",
      "Enter a string:  chakresh\n"
     ]
    },
    {
     "name": "stdout",
     "output_type": "stream",
     "text": [
      "The strings are not the same.\n"
     ]
    }
   ],
   "source": [
    "#Check if two given strings are the same (case-sensitive).\n",
    "str1 = input(\"Enter a string: \")\n",
    "str2 = input(\"Enter a string: \")\n",
    "if str1 == str2:\n",
    "    print(\"The strings are the same.\")\n",
    "else:\n",
    "    print(\"The strings are not the same.\")\n",
    "     "
   ]
  },
  {
   "cell_type": "code",
   "execution_count": 49,
   "id": "eff32d13-1fb4-4539-9b38-fbfd706742f0",
   "metadata": {},
   "outputs": [
    {
     "name": "stdin",
     "output_type": "stream",
     "text": [
      "Enter a string:  visualization\n"
     ]
    },
    {
     "name": "stdout",
     "output_type": "stream",
     "text": [
      "isualizatio\n"
     ]
    }
   ],
   "source": [
    "#Print a string without the first and last character.\n",
    "str = input(\"Enter a string: \")\n",
    "print(str[1:-1])\n",
    "     \n"
   ]
  },
  {
   "cell_type": "code",
   "execution_count": 50,
   "id": "aced2bda-066c-4360-a1b6-e84ee675207a",
   "metadata": {},
   "outputs": [
    {
     "name": "stdout",
     "output_type": "stream",
     "text": [
      "['1', '2', '3', '4', '5']\n"
     ]
    }
   ],
   "source": [
    "#Convert a string \"12345\" into a list of individual characters.\n",
    "str = \"12345\"\n",
    "list = []\n",
    "for char in str:\n",
    "    list.append(char)\n",
    "print(list)"
   ]
  },
  {
   "cell_type": "code",
   "execution_count": 51,
   "id": "f758795e-aacc-48fb-b9ce-81fd6a89640f",
   "metadata": {},
   "outputs": [
    {
     "name": "stdout",
     "output_type": "stream",
     "text": [
      "['Chicago', 'Houston', 'Miami']\n"
     ]
    }
   ],
   "source": [
    "#Create a list of five cities and print only the last three.\n",
    "list = [\"New York\", \"Los Angeles\", \"Chicago\", \"Houston\", \"Miami\"]\n",
    "print(list[-3:])\n",
    "     "
   ]
  },
  {
   "cell_type": "code",
   "execution_count": 52,
   "id": "94cfd5a1-c640-4838-bf0a-67c2b2cd69e2",
   "metadata": {},
   "outputs": [
    {
     "name": "stdout",
     "output_type": "stream",
     "text": [
      "[1, 2, 4, 5]\n"
     ]
    }
   ],
   "source": [
    "#Remove the middle element from a list of five elements.\n",
    "list = [1,2,3,4,5]\n",
    "middle_index = len(list) // 2\n",
    "del list[middle_index]\n",
    "print(list)\n",
    "     "
   ]
  },
  {
   "cell_type": "code",
   "execution_count": 53,
   "id": "4029efe0-e1c7-4646-b3f1-3e079e1cd975",
   "metadata": {},
   "outputs": [
    {
     "name": "stdin",
     "output_type": "stream",
     "text": [
      "Enter a number:  3\n",
      "Enter a number:  4\n",
      "Enter a number:  5\n",
      "Enter a number:  7\n",
      "Enter a number:  8\n"
     ]
    },
    {
     "name": "stdout",
     "output_type": "stream",
     "text": [
      "[3, 4, 5, 7, 8]\n"
     ]
    }
   ],
   "source": [
    "#Take five numbers from the user and store them in a list.\n",
    "list = []\n",
    "for i in range(5):\n",
    "    num = int(input(\"Enter a number: \"))\n",
    "    list.append(num)\n",
    "print(list)"
   ]
  },
  {
   "cell_type": "code",
   "execution_count": 54,
   "id": "de10d870-d2f2-4595-a8ed-c0a86e36b950",
   "metadata": {},
   "outputs": [
    {
     "name": "stdout",
     "output_type": "stream",
     "text": [
      "2\n"
     ]
    }
   ],
   "source": [
    "#Find the index of \"apple\" in the list [\"banana\", \"orange\", \"apple\", \"grape\"].\n",
    "list = [\"banana\", \"orange\", \"apple\", \"grape\"]\n",
    "index = list.index(\"apple\")\n",
    "print(index)\n",
    "     "
   ]
  },
  {
   "cell_type": "code",
   "execution_count": 55,
   "id": "b81b6bc5-55ac-46d0-8b56-8d71527b2ef2",
   "metadata": {},
   "outputs": [
    {
     "name": "stdout",
     "output_type": "stream",
     "text": [
      "2\n",
      "4\n",
      "6\n",
      "8\n",
      "10\n"
     ]
    }
   ],
   "source": [
    "#Print only the even numbers from a given list.\n",
    "list = [1,2,3,4,5,6,7,8,9,10]\n",
    "for num in list:\n",
    "    if num % 2 == 0:\n",
    "        print(num)"
   ]
  },
  {
   "cell_type": "code",
   "execution_count": 56,
   "id": "1730d9b6-9829-4005-876b-4520a08cb8c1",
   "metadata": {},
   "outputs": [
    {
     "name": "stdout",
     "output_type": "stream",
     "text": [
      "[5, 4, 3, 2, 1]\n"
     ]
    }
   ],
   "source": [
    "#Reverse a list by swapping elements (without [::-1]).\n",
    "list = [1,2,3,4,5]\n",
    "for i in range(len(list)//2):\n",
    "    list[i],list[len(list)-i-1] = list[len(list)-i-1],list[i]\n",
    "print(list)"
   ]
  },
  {
   "cell_type": "code",
   "execution_count": 57,
   "id": "ae30993a-7cf9-47a4-a07b-adc9525e5588",
   "metadata": {},
   "outputs": [
    {
     "name": "stdout",
     "output_type": "stream",
     "text": [
      "[1, 2, 3, 4, 5]\n"
     ]
    }
   ],
   "source": [
    "#.Create a list of ten numbers and print only the unique elements.\n",
    "list = [1,2,3,4,5,1,2,3,4,5]\n",
    "unique_list = []\n",
    "for num in list:\n",
    "    if num not in unique_list:\n",
    "        unique_list.append(num)\n",
    "print(unique_list)"
   ]
  },
  {
   "cell_type": "code",
   "execution_count": 58,
   "id": "b9b6b5a6-efba-4949-b719-cb4c30db4769",
   "metadata": {},
   "outputs": [
    {
     "name": "stdout",
     "output_type": "stream",
     "text": [
      "15\n"
     ]
    }
   ],
   "source": [
    "#Print the sum of all elements in a list (without using sum()).\n",
    "list = [1,2,3,4,5]\n",
    "sum = 0\n",
    "for num in list:\n",
    "    sum += num\n",
    "print(sum)"
   ]
  },
  {
   "cell_type": "code",
   "execution_count": 59,
   "id": "aef1b416-0250-42b1-95f1-0c4738f9213c",
   "metadata": {},
   "outputs": [
    {
     "name": "stdout",
     "output_type": "stream",
     "text": [
      "[2, 3, 4, 5, 1]\n"
     ]
    }
   ],
   "source": [
    "#Move the first element of a list to the last position.\n",
    "list = [1,2,3,4,5]\n",
    "first_element = list.pop(0)\n",
    "list.append(first_element)\n",
    "print(list)"
   ]
  },
  {
   "cell_type": "code",
   "execution_count": 60,
   "id": "1a21fa07-ec5f-4d5a-b2ea-fd756ca140d6",
   "metadata": {},
   "outputs": [
    {
     "name": "stdout",
     "output_type": "stream",
     "text": [
      "1 <class 'int'>\n",
      "2.0 <class 'float'>\n",
      "3 <class 'str'>\n"
     ]
    }
   ],
   "source": [
    "#.Create a list with mixed data types (int, float, string) and print each element with its type.\n",
    "list = [1,2.0,\"3\"]\n",
    "for element in list:\n",
    "    print(element,type(element))\n",
    "     \n"
   ]
  },
  {
   "cell_type": "code",
   "execution_count": 61,
   "id": "aef49564-7f32-4d3d-bbea-7ce1467289fd",
   "metadata": {},
   "outputs": [
    {
     "data": {
      "text/plain": [
       "(13, 15, 'yes')"
      ]
     },
     "execution_count": 61,
     "metadata": {},
     "output_type": "execute_result"
    }
   ],
   "source": [
    "#Create a tuple of five numbers and print only the first three.\n",
    "tuple = (13, 15, \"yes\", 16, \"me\")\n",
    "tuple[:3:1]"
   ]
  },
  {
   "cell_type": "code",
   "execution_count": 62,
   "id": "6ddad120-001b-4963-9548-bb10ea04cbc1",
   "metadata": {},
   "outputs": [
    {
     "data": {
      "text/plain": [
       "('me',)"
      ]
     },
     "execution_count": 62,
     "metadata": {},
     "output_type": "execute_result"
    }
   ],
   "source": [
    "#Print the last element of a tuple without using negative indexing.\n",
    "tuple = (13, 15, \"yes\", 16, \"me\")\n",
    "tuple[:-2:-1]"
   ]
  },
  {
   "cell_type": "code",
   "execution_count": 63,
   "id": "7f99fac8-94de-4ab5-ae44-0e4dbf6d0cfe",
   "metadata": {},
   "outputs": [
    {
     "ename": "TypeError",
     "evalue": "'list' object is not callable",
     "output_type": "error",
     "traceback": [
      "\u001b[1;31m---------------------------------------------------------------------------\u001b[0m",
      "\u001b[1;31mTypeError\u001b[0m                                 Traceback (most recent call last)",
      "Cell \u001b[1;32mIn[63], line 3\u001b[0m\n\u001b[0;32m      1\u001b[0m \u001b[38;5;66;03m#Convert a tuple (1, 2, 3, 4, 5) into a list and add a new number.\u001b[39;00m\n\u001b[0;32m      2\u001b[0m \u001b[38;5;28mtuple\u001b[39m \u001b[38;5;241m=\u001b[39m (\u001b[38;5;241m1\u001b[39m, \u001b[38;5;241m2\u001b[39m, \u001b[38;5;241m3\u001b[39m, \u001b[38;5;241m4\u001b[39m, \u001b[38;5;241m5\u001b[39m)\n\u001b[1;32m----> 3\u001b[0m \u001b[38;5;28mlist\u001b[39m \u001b[38;5;241m=\u001b[39m \u001b[38;5;28mlist\u001b[39m(\u001b[38;5;28mtuple\u001b[39m)\n\u001b[0;32m      4\u001b[0m \u001b[38;5;28mprint\u001b[39m(\u001b[38;5;28mlist\u001b[39m)\n",
      "\u001b[1;31mTypeError\u001b[0m: 'list' object is not callable"
     ]
    }
   ],
   "source": [
    "#Convert a tuple (1, 2, 3, 4, 5) into a list and add a new number.\n",
    "tuple = (1, 2, 3, 4, 5)\n",
    "list = list(tuple)\n",
    "print(list)\n",
    "     "
   ]
  },
  {
   "cell_type": "code",
   "execution_count": 64,
   "id": "282c4c7a-2069-4b57-9c8f-50b27b74c9ad",
   "metadata": {},
   "outputs": [
    {
     "name": "stdout",
     "output_type": "stream",
     "text": [
      "3\n"
     ]
    }
   ],
   "source": [
    "#Extract the middle element from a tuple with an odd number of elements.\n",
    "tuple = (1, 2, 3, 4,5)\n",
    "middle_index = len(tuple) // 2\n",
    "middle_element = tuple[middle_index]\n",
    "print(middle_element)"
   ]
  },
  {
   "cell_type": "code",
   "execution_count": 65,
   "id": "d3c462a0-3729-4547-8caa-f8054f657b82",
   "metadata": {},
   "outputs": [
    {
     "name": "stdout",
     "output_type": "stream",
     "text": [
      "The tuples are not the same.\n"
     ]
    }
   ],
   "source": [
    "#Check if two tuples (1, 2, 3) and (3, 2, 1) are the same.\n",
    "tuple1 = (1, 2, 3)\n",
    "tuple2 = (3, 2, 1)\n",
    "if tuple1 == tuple2:\n",
    "    print(\"The tuples are the same.\")\n",
    "else:\n",
    "    print(\"The tuples are not the same.\")"
   ]
  },
  {
   "cell_type": "code",
   "execution_count": 66,
   "id": "50874ae0-d2cb-48f5-967e-8f75a1cdf32b",
   "metadata": {},
   "outputs": [
    {
     "name": "stdout",
     "output_type": "stream",
     "text": [
      "6\n"
     ]
    }
   ],
   "source": [
    "#Create a nested tuple and print an inner element.\n",
    "nested_tuple = ((1, 2, 3), (4, 5, 6), (7, 8, 9))\n",
    "inner_element = nested_tuple[1][2]\n",
    "print(inner_element)\n",
    "     "
   ]
  },
  {
   "cell_type": "code",
   "execution_count": 67,
   "id": "fbd269f5-2ad5-46e6-8f4e-547803c6177b",
   "metadata": {},
   "outputs": [
    {
     "name": "stdout",
     "output_type": "stream",
     "text": [
      "(1, 2, 3, 4, 5, 6, 7, 8, 9)\n"
     ]
    }
   ],
   "source": [
    "#.Merge three tuples into one.\n",
    "tuple1 = (1, 2, 3)\n",
    "tuple2 = (4, 5, 6)\n",
    "tuple3 = (7, 8, 9)\n",
    "merged_tuple = tuple1 + tuple2 + tuple3\n",
    "print(merged_tuple)\n",
    "     "
   ]
  },
  {
   "cell_type": "code",
   "execution_count": 68,
   "id": "7fbbeb46-5901-41b3-8ad6-981a3182abb4",
   "metadata": {},
   "outputs": [
    {
     "name": "stdout",
     "output_type": "stream",
     "text": [
      "2\n"
     ]
    }
   ],
   "source": [
    "#Find the index of 5 in the tuple (1, 3, 5, 7, 9).\n",
    "my_tuple = (1, 3, 5, 7, 9)\n",
    "index = my_tuple.index(5)\n",
    "print(index)"
   ]
  },
  {
   "cell_type": "code",
   "execution_count": 69,
   "id": "1167c6c9-1241-49a5-bf44-549db9cf3da6",
   "metadata": {},
   "outputs": [
    {
     "name": "stdout",
     "output_type": "stream",
     "text": [
      "1 2 3\n"
     ]
    }
   ],
   "source": [
    "#Unpack a tuple into separate variables\n",
    "my_tuple = (1, 2, 3)\n",
    "a, b, c = my_tuple\n",
    "print(a, b, c)\n",
    "     "
   ]
  },
  {
   "cell_type": "code",
   "execution_count": null,
   "id": "a448e964-90e4-4436-bf66-55f2b1ac9fec",
   "metadata": {},
   "outputs": [],
   "source": []
  }
 ],
 "metadata": {
  "kernelspec": {
   "display_name": "Python 3 (ipykernel)",
   "language": "python",
   "name": "python3"
  },
  "language_info": {
   "codemirror_mode": {
    "name": "ipython",
    "version": 3
   },
   "file_extension": ".py",
   "mimetype": "text/x-python",
   "name": "python",
   "nbconvert_exporter": "python",
   "pygments_lexer": "ipython3",
   "version": "3.13.5"
  }
 },
 "nbformat": 4,
 "nbformat_minor": 5
}
