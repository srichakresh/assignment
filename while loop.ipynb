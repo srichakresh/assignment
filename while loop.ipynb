{
 "cells": [
  {
   "cell_type": "markdown",
   "id": "44a16abc-4032-410a-ac9e-397d03d9e321",
   "metadata": {},
   "source": [
    "While Loop practicals:\n",
    "\n",
    "Print Numbers from 1 to 10\n",
    "Expected Output: 1 2 3 ... 10"
   ]
  },
  {
   "cell_type": "code",
   "execution_count": 1,
   "id": "f1b6d62b-fde8-4dd9-be2d-47b2c7471614",
   "metadata": {},
   "outputs": [
    {
     "name": "stdout",
     "output_type": "stream",
     "text": [
      "1\n",
      "2\n",
      "3\n",
      "4\n",
      "5\n",
      "6\n",
      "7\n",
      "8\n",
      "9\n",
      "10\n"
     ]
    }
   ],
   "source": [
    "i=1\n",
    "while i<=10:\n",
    "    print(i)\n",
    "    i+=1"
   ]
  },
  {
   "cell_type": "markdown",
   "id": "6cb828ed-3933-4510-ba24-5f821f539f8f",
   "metadata": {},
   "source": [
    "Sum of Numbers from 1 to N\n",
    "Input: 5 Expected Output: 15 (1+2+3+4+5)\n",
    "\n"
   ]
  },
  {
   "cell_type": "code",
   "execution_count": 3,
   "id": "e3232fd6-ff39-4a42-ab30-0cd5c41dee1a",
   "metadata": {},
   "outputs": [
    {
     "name": "stdin",
     "output_type": "stream",
     "text": [
      " 10\n"
     ]
    },
    {
     "name": "stdout",
     "output_type": "stream",
     "text": [
      "1\n",
      "2\n",
      "3\n",
      "4\n",
      "5\n",
      "6\n",
      "7\n",
      "8\n",
      "9\n",
      "10\n",
      "55\n"
     ]
    }
   ],
   "source": [
    "n=int(input())\n",
    "i=1\n",
    "sum=0\n",
    "while i<=n:\n",
    "    print(i)\n",
    "    sum+=i\n",
    "    i+=1\n",
    "print(sum)"
   ]
  },
  {
   "cell_type": "markdown",
   "id": "e92949ff-1915-4b4e-9083-3fb36b898b7c",
   "metadata": {},
   "source": [
    "Print Even Numbers up to N Input: 10 Expected Output: 2 4 6 8 10"
   ]
  },
  {
   "cell_type": "code",
   "execution_count": 8,
   "id": "f54f01a6-a8e8-4864-a892-c8aa6e8db309",
   "metadata": {},
   "outputs": [
    {
     "name": "stdin",
     "output_type": "stream",
     "text": [
      " 2\n"
     ]
    },
    {
     "name": "stdout",
     "output_type": "stream",
     "text": [
      "2 "
     ]
    }
   ],
   "source": [
    "n=int(input())\n",
    "i = 2\n",
    "\n",
    "while i <= n:\n",
    "    print(i, end=' ')\n",
    "    i +=2"
   ]
  },
  {
   "cell_type": "markdown",
   "id": "de282794-3269-42de-a5a5-02a9ffcf5b68",
   "metadata": {},
   "source": [
    "Count Digits in a Number\n",
    "Input: 12345 Expected Output: 5"
   ]
  },
  {
   "cell_type": "code",
   "execution_count": 10,
   "id": "7c0a6929-f18c-4a1a-97d3-85fdf0e3a91a",
   "metadata": {},
   "outputs": [
    {
     "name": "stdin",
     "output_type": "stream",
     "text": [
      " 5\n"
     ]
    },
    {
     "name": "stdout",
     "output_type": "stream",
     "text": [
      "1\n"
     ]
    }
   ],
   "source": [
    "n=int(input())\n",
    "count=0\n",
    "\n",
    "while n>0:\n",
    "    n=n//10\n",
    "    count+=1\n",
    "print(count)"
   ]
  },
  {
   "cell_type": "markdown",
   "id": "7890c5c1-8ea4-416a-ba2d-ab6ff3934d4e",
   "metadata": {},
   "source": [
    "Reverse a Number Input: 1234 Output: 4321"
   ]
  },
  {
   "cell_type": "code",
   "execution_count": 11,
   "id": "7392880c-65f2-496d-a76a-d9866ccc09f3",
   "metadata": {},
   "outputs": [
    {
     "name": "stdin",
     "output_type": "stream",
     "text": [
      " 1234\n"
     ]
    },
    {
     "name": "stdout",
     "output_type": "stream",
     "text": [
      "4321\n"
     ]
    }
   ],
   "source": [
    "n=int(input())\n",
    "rev = 0\n",
    "\n",
    "while n > 0:\n",
    "    r = n % 10       \n",
    "    rev = rev * 10 + r  \n",
    "    n = n // 10      \n",
    "\n",
    "print(rev)"
   ]
  },
  {
   "cell_type": "markdown",
   "id": "245570a4-2741-4b8d-a965-89e8f8ae2fe2",
   "metadata": {},
   "source": [
    "Check if a Number is a Palindrome Input: 121 Output: True"
   ]
  },
  {
   "cell_type": "code",
   "execution_count": 12,
   "id": "c498ecfd-866a-4fef-bddb-648994d055f5",
   "metadata": {},
   "outputs": [
    {
     "name": "stdin",
     "output_type": "stream",
     "text": [
      " 121\n"
     ]
    },
    {
     "name": "stdout",
     "output_type": "stream",
     "text": [
      "True\n"
     ]
    }
   ],
   "source": [
    "n = int(input())\n",
    "original = n\n",
    "rev = 0\n",
    "\n",
    "while n > 0:\n",
    "    r = n % 10\n",
    "    rev = rev * 10 + r\n",
    "    n = n // 10\n",
    "\n",
    "if original == rev:\n",
    "    print(\"True\")\n",
    "else:\n",
    "    print(\"Not a Palindrome\")"
   ]
  },
  {
   "cell_type": "code",
   "execution_count": null,
   "id": "e2cb6ba4-e281-456a-a92a-7b0cd20dd0fc",
   "metadata": {},
   "outputs": [],
   "source": []
  }
 ],
 "metadata": {
  "kernelspec": {
   "display_name": "Python 3 (ipykernel)",
   "language": "python",
   "name": "python3"
  },
  "language_info": {
   "codemirror_mode": {
    "name": "ipython",
    "version": 3
   },
   "file_extension": ".py",
   "mimetype": "text/x-python",
   "name": "python",
   "nbconvert_exporter": "python",
   "pygments_lexer": "ipython3",
   "version": "3.13.5"
  }
 },
 "nbformat": 4,
 "nbformat_minor": 5
}
