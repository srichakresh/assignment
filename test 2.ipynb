{
 "cells": [
  {
   "cell_type": "code",
   "execution_count": null,
   "id": "d9e4cda9-34b8-4cd4-80d2-17ea6d0684fd",
   "metadata": {},
   "outputs": [],
   "source": [
    "what are python data types?\n",
    "Data types are:\n",
    "list\n",
    "tuple\n",
    "string\n",
    "sets\n",
    "dictonary"
   ]
  },
  {
   "cell_type": "code",
   "execution_count": null,
   "id": "92022d02-aa05-45b6-a7c0-b82b3162bba7",
   "metadata": {},
   "outputs": [],
   "source": [
    "what are mutable and immutable types in python?\n",
    "Mutable:\n",
    "    if can create a data type.it can change the values is called mutable\n",
    "Inmutable:\n",
    "    if can create a data type.it can't changes the values is called immutable"
   ]
  },
  {
   "cell_type": "code",
   "execution_count": null,
   "id": "6e43737d-c534-400b-a881-e069437043ee",
   "metadata": {},
   "outputs": [],
   "source": [
    "what is the difference between functions and methods in python\n",
    "Functions:\n",
    " function is a block of \"reusable code\".Functions are defined using the def keyword.\n",
    "\n",
    "Method:\n",
    "A method is a function that belongs to a class. It is defined within the class structure and is called on an instance of that class. \n",
    "Methods are used to perform actions or operations on the data (attributes) "
   ]
  },
  {
   "cell_type": "code",
   "execution_count": null,
   "id": "07ac681d-b120-4c0b-90a5-cb5a647603c7",
   "metadata": {},
   "outputs": [],
   "source": [
    "what is difference between is and == in python\n",
    "Is:\n",
    "it is an address to can prompt the values\n",
    "\n",
    "==:\n",
    "it is equal to their values"
   ]
  },
  {
   "cell_type": "markdown",
   "id": "a17975d5-27a9-4e59-b7b7-7b1ab9dec913",
   "metadata": {},
   "source": [
    "write a class car with attributes brand,model,and a method to display details"
   ]
  },
  {
   "cell_type": "code",
   "execution_count": 3,
   "id": "e14d0ab8-6242-4421-858f-a172708d9436",
   "metadata": {},
   "outputs": [],
   "source": [
    "class car():\n",
    "    def __init__(self,brand,model):\n",
    "        self.brand=brand\n",
    "        self.model=model"
   ]
  },
  {
   "cell_type": "code",
   "execution_count": 4,
   "id": "f751a2aa-e219-4620-82dd-f59d69520c19",
   "metadata": {},
   "outputs": [],
   "source": [
    "car1=car(\"BENZ\",\"petrol\")"
   ]
  },
  {
   "cell_type": "code",
   "execution_count": 6,
   "id": "f14b8d96-16b7-44f8-b0a5-96dbb06ddeef",
   "metadata": {},
   "outputs": [
    {
     "data": {
      "text/plain": [
       "'BENZ'"
      ]
     },
     "execution_count": 6,
     "metadata": {},
     "output_type": "execute_result"
    }
   ],
   "source": [
    "car1.brand"
   ]
  },
  {
   "cell_type": "code",
   "execution_count": 7,
   "id": "98a7134e-e054-486a-9e37-a17cf2bb0c03",
   "metadata": {},
   "outputs": [
    {
     "data": {
      "text/plain": [
       "'petrol'"
      ]
     },
     "execution_count": 7,
     "metadata": {},
     "output_type": "execute_result"
    }
   ],
   "source": [
    "car1.model"
   ]
  },
  {
   "cell_type": "code",
   "execution_count": null,
   "id": "3d4584ad-579e-4986-803b-1784ed7f25d1",
   "metadata": {},
   "outputs": [],
   "source": [
    "what are the four pillars of OOPS?explain with python examples\n",
    "\n",
    "The four types of OOPS:\n",
    "   Inheritance\n",
    "   Abstraction\n",
    "   Polymorphism\n",
    "   Encapsulation"
   ]
  },
  {
   "cell_type": "code",
   "execution_count": null,
   "id": "f13eb12d-e78c-49d6-b206-7f7b3cd278f1",
   "metadata": {},
   "outputs": [],
   "source": [
    "what are map(),filter(),reduce()\n",
    "map():\n",
    "   The map() function applies a given function to every item of an iterable and returns an iterator that yields the results.\n",
    "filter():\n",
    "  The filter() function constructs an iterator from elements of an iterable for which a function returns a truthy value. The syntax is filter(function, iterable). It's used to filter out items based on a condition.  \n",
    "reduce():\n",
    "The reduce() function, part of the functools module, applies a function of two arguments cumulatively to the items of an iterable, from left to right, to reduce the iterable to a single value. The syntax is reduce(function, iterable). It's often used for operations like calculating a sum or a product.\n",
    "\n"
   ]
  },
  {
   "cell_type": "code",
   "execution_count": null,
   "id": "001f2367-2226-4b11-9b30-a0391d1b3993",
   "metadata": {},
   "outputs": [],
   "source": [
    "class bankaccount:\n",
    "    def __init__(self,account_holder,balance):\n",
    "        self.account_holder=account_holder  \n",
    "        self.__balance=balance  \n",
    "        \n",
    "    def get_balance(self):\n",
    "        return self.__balance\n",
    "\n",
    "\n",
    "\n",
    "    def deposit(self,amount):\n",
    "        if amount > 0:\n",
    "            self.__balance += amount\n",
    "            print(f\"deposited {amount}. new balance: {self.__balance}\")\n",
    "        else:\n",
    "            print(\"Inavalid deposit amount.\")\n",
    "\n",
    "    def withdraw(self,amount):\n",
    "        if 0 < amount <=self.__balance:\n",
    "            self.__balance -=amount\n",
    "            print(f\"withdral {amount}. new balance:{self.__balance}\")\n",
    "        else:\n",
    "            print(\"invalid withdrawal amount or insufficient balance.\") "
   ]
  }
 ],
 "metadata": {
  "kernelspec": {
   "display_name": "Python 3 (ipykernel)",
   "language": "python",
   "name": "python3"
  },
  "language_info": {
   "codemirror_mode": {
    "name": "ipython",
    "version": 3
   },
   "file_extension": ".py",
   "mimetype": "text/x-python",
   "name": "python",
   "nbconvert_exporter": "python",
   "pygments_lexer": "ipython3",
   "version": "3.13.5"
  }
 },
 "nbformat": 4,
 "nbformat_minor": 5
}
