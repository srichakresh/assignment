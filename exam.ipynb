{
 "cells": [
  {
   "cell_type": "markdown",
   "id": "043480c0-ae60-4044-bdb1-9cf03fb778da",
   "metadata": {},
   "source": [
    "       write a python function to check if a number is prime"
   ]
  },
  {
   "cell_type": "code",
   "execution_count": 120,
   "id": "2e58601b-0ee5-4b55-8bc2-0a10463dbe22",
   "metadata": {},
   "outputs": [
    {
     "name": "stdin",
     "output_type": "stream",
     "text": [
      "Enter the number: 5\n"
     ]
    },
    {
     "name": "stdout",
     "output_type": "stream",
     "text": [
      "number is prime\n"
     ]
    }
   ],
   "source": [
    "n=(int(input(\"Enter the number:\")))\n",
    "a=0\n",
    "for i in range(1,n+i):\n",
    "    if n%i==0:\n",
    "        a=a+1\n",
    "if a==2:\n",
    "    print(\"number is prime\")\n",
    "else:\n",
    "    print(\"number is not prime\")\n",
    "   "
   ]
  },
  {
   "cell_type": "markdown",
   "id": "94b637e1-5b44-4891-bf88-c65550724a7d",
   "metadata": {},
   "source": [
    "\n",
    "      write a python function that returns the sum of elements in a list\n"
   ]
  },
  {
   "cell_type": "code",
   "execution_count": 94,
   "id": "24a60d2d-6cf5-485c-9373-017c8624e03b",
   "metadata": {},
   "outputs": [
    {
     "name": "stdout",
     "output_type": "stream",
     "text": [
      "1\n",
      "2\n",
      "3\n",
      "4\n",
      "5\n"
     ]
    }
   ],
   "source": [
    "l=[1,2,3,4,5]\n",
    "sum=0\n",
    "for i in l:\n",
    "    print(i)\n",
    "    sum +=i"
   ]
  },
  {
   "cell_type": "markdown",
   "id": "969b5771-f38d-4284-aeac-42ffc15715f4",
   "metadata": {},
   "source": [
    "     write a python program to count the number of words in a string"
   ]
  },
  {
   "cell_type": "code",
   "execution_count": 54,
   "id": "2125e7aa-12bb-4175-9358-3af6098df92d",
   "metadata": {},
   "outputs": [],
   "source": [
    "s=\"aimnxt\",\"datascience\""
   ]
  },
  {
   "cell_type": "code",
   "execution_count": 57,
   "id": "a8d9bf44-fc4f-4d58-bb3d-8e3959c7c744",
   "metadata": {},
   "outputs": [
    {
     "data": {
      "text/plain": [
       "1"
      ]
     },
     "execution_count": 57,
     "metadata": {},
     "output_type": "execute_result"
    }
   ],
   "source": [
    "s.count(\"aimnxt\")"
   ]
  },
  {
   "cell_type": "markdown",
   "id": "33d3db1f-6225-4650-b0b2-ed3139d0b84f",
   "metadata": {},
   "source": [
    "       write a python program using lambda function to find square of a number"
   ]
  },
  {
   "cell_type": "code",
   "execution_count": 96,
   "id": "50a02738-ba8a-4b76-bf1b-7317994607ab",
   "metadata": {},
   "outputs": [
    {
     "name": "stdin",
     "output_type": "stream",
     "text": [
      "enter the number: 4\n"
     ]
    },
    {
     "data": {
      "text/plain": [
       "[9]"
      ]
     },
     "execution_count": 96,
     "metadata": {},
     "output_type": "execute_result"
    }
   ],
   "source": [
    "n=int(input(\"enter the number:\"))\n",
    "[a*a]"
   ]
  },
  {
   "cell_type": "markdown",
   "id": "e3dcf601-4040-46fe-9894-5a39bb4209bc",
   "metadata": {},
   "source": [
    "     write a function to check wheather a given number is even or odd\n",
    "    "
   ]
  },
  {
   "cell_type": "code",
   "execution_count": 70,
   "id": "2b498f0f-6088-4888-907e-ad6460a46a5c",
   "metadata": {},
   "outputs": [],
   "source": [
    "def test1(*m):\n",
    "    for i in m:\n",
    "        if i%2==0:\n",
    "            print(\"It is an even number\")\n",
    "        else:\n",
    "            print(\"it is an odd number\")"
   ]
  },
  {
   "cell_type": "code",
   "execution_count": 71,
   "id": "4c7affff-4aa5-4758-8f81-1b18b807cde7",
   "metadata": {},
   "outputs": [
    {
     "name": "stdout",
     "output_type": "stream",
     "text": [
      "it is an odd number\n"
     ]
    }
   ],
   "source": [
    "test1(1)\n"
   ]
  },
  {
   "cell_type": "markdown",
   "id": "246aface-0e34-4d4b-98ba-fec6fe19856e",
   "metadata": {},
   "source": [
    "      write a python program to calculate the sum of elements in alist using list comprehension"
   ]
  },
  {
   "cell_type": "code",
   "execution_count": 139,
   "id": "38b52722-353f-4853-bcd1-774d15dc4735",
   "metadata": {},
   "outputs": [
    {
     "ename": "TypeError",
     "evalue": "'int' object is not callable",
     "output_type": "error",
     "traceback": [
      "\u001b[1;31m---------------------------------------------------------------------------\u001b[0m",
      "\u001b[1;31mTypeError\u001b[0m                                 Traceback (most recent call last)",
      "Cell \u001b[1;32mIn[139], line 2\u001b[0m\n\u001b[0;32m      1\u001b[0m l\u001b[38;5;241m=\u001b[39m[\u001b[38;5;241m2\u001b[39m,\u001b[38;5;241m3\u001b[39m,\u001b[38;5;241m4\u001b[39m,\u001b[38;5;241m5\u001b[39m]\n\u001b[1;32m----> 2\u001b[0m \u001b[38;5;28msum\u001b[39m([i \u001b[38;5;28;01mfor\u001b[39;00m i \u001b[38;5;129;01min\u001b[39;00m l \u001b[38;5;28;01mif\u001b[39;00m \u001b[38;5;28mtype\u001b[39m(i)\u001b[38;5;241m==\u001b[39m\u001b[38;5;28mint\u001b[39m])\n\u001b[0;32m      3\u001b[0m \u001b[38;5;28mprint\u001b[39m(result)\n",
      "\u001b[1;31mTypeError\u001b[0m: 'int' object is not callable"
     ]
    }
   ],
   "source": [
    "l=[2,3,4,5]\n",
    "sum([i for i in l if type(i)==int])"
   ]
  },
  {
   "cell_type": "markdown",
   "id": "b265b6a2-3634-49bd-b78d-d3f2521fa1aa",
   "metadata": {},
   "source": [
    "  write a function to reverse a string "
   ]
  },
  {
   "cell_type": "code",
   "execution_count": 97,
   "id": "6bbbe845-ebd2-4403-9032-c508be7b19f5",
   "metadata": {},
   "outputs": [],
   "source": [
    "s=\"aimnxt\"   "
   ]
  },
  {
   "cell_type": "code",
   "execution_count": 98,
   "id": "2dab4dec-c35c-44b3-8293-ce2f62179207",
   "metadata": {},
   "outputs": [
    {
     "data": {
      "text/plain": [
       "'aimnxt'"
      ]
     },
     "execution_count": 98,
     "metadata": {},
     "output_type": "execute_result"
    }
   ],
   "source": [
    "s"
   ]
  },
  {
   "cell_type": "code",
   "execution_count": 99,
   "id": "052f51d8-58fb-438d-85ee-2571a3876058",
   "metadata": {},
   "outputs": [],
   "source": [
    "def test(s):\n",
    "    return s[::-1]"
   ]
  },
  {
   "cell_type": "code",
   "execution_count": 100,
   "id": "1957a867-c057-4fbc-8609-48dc42195de9",
   "metadata": {},
   "outputs": [
    {
     "data": {
      "text/plain": [
       "'txnmia'"
      ]
     },
     "execution_count": 100,
     "metadata": {},
     "output_type": "execute_result"
    }
   ],
   "source": [
    "test(s)"
   ]
  },
  {
   "cell_type": "markdown",
   "id": "a8af439f-444f-4281-961e-5298ee5b7839",
   "metadata": {},
   "source": [
    "        write a function that takes a list of numbers and returns a new list containing only the even numbers"
   ]
  },
  {
   "cell_type": "code",
   "execution_count": 101,
   "id": "6edbb5bb-df3f-48ea-aef3-6a4c4dcfe9e0",
   "metadata": {},
   "outputs": [
    {
     "name": "stdout",
     "output_type": "stream",
     "text": [
      "[2, 4]\n"
     ]
    }
   ],
   "source": [
    "l1=[]\n",
    "for i in l:\n",
    "    if i%2==0:\n",
    "        l1.append(i)\n",
    "print(l1)"
   ]
  },
  {
   "cell_type": "markdown",
   "id": "af9d3672-02cf-4f2d-b1e9-f01479c5c3ad",
   "metadata": {},
   "source": [
    "     write a function that takes two strings and concatenates them"
   ]
  },
  {
   "cell_type": "code",
   "execution_count": 102,
   "id": "fa914e45-e7ce-4fef-b1ff-db643b84f01a",
   "metadata": {},
   "outputs": [],
   "source": [
    "def test():\n",
    "    s1=\"aimnxt\"\n",
    "    s2=\"datascience\"\n",
    "    return s1+s2"
   ]
  },
  {
   "cell_type": "code",
   "execution_count": 103,
   "id": "2ad5a3c1-6b09-42b1-b262-5a398c0e089a",
   "metadata": {},
   "outputs": [
    {
     "data": {
      "text/plain": [
       "'aimnxtdatascience'"
      ]
     },
     "execution_count": 103,
     "metadata": {},
     "output_type": "execute_result"
    }
   ],
   "source": [
    "test()"
   ]
  },
  {
   "cell_type": "markdown",
   "id": "61c84d5d-1157-45b4-b241-f150106fda72",
   "metadata": {},
   "source": [
    "     write a function that takes a string and returns both its uppercase and lowercase versions"
   ]
  },
  {
   "cell_type": "code",
   "execution_count": 104,
   "id": "b8121fb4-a28b-4da6-b161-645efd1842ee",
   "metadata": {},
   "outputs": [],
   "source": [
    "s='datascience'"
   ]
  },
  {
   "cell_type": "code",
   "execution_count": 118,
   "id": "163693c9-daee-4cc8-8ec9-ef1a3a685a2b",
   "metadata": {},
   "outputs": [
    {
     "data": {
      "text/plain": [
       "'DATASCIENCE'"
      ]
     },
     "execution_count": 118,
     "metadata": {},
     "output_type": "execute_result"
    }
   ],
   "source": [
    "s.upper()"
   ]
  },
  {
   "cell_type": "code",
   "execution_count": 106,
   "id": "0f07b05f-a54d-4974-8369-2055321b52e8",
   "metadata": {},
   "outputs": [
    {
     "data": {
      "text/plain": [
       "'datascience'"
      ]
     },
     "execution_count": 106,
     "metadata": {},
     "output_type": "execute_result"
    }
   ],
   "source": [
    "s.lower()"
   ]
  },
  {
   "cell_type": "markdown",
   "id": "e33165ca-cefe-4d9b-84af-4d502dd095fd",
   "metadata": {},
   "source": [
    "      write a function to check if a  umber is prime or not"
   ]
  },
  {
   "cell_type": "code",
   "execution_count": 121,
   "id": "1aee70d4-9a51-4b38-8f0d-9df4b405f2e4",
   "metadata": {},
   "outputs": [],
   "source": [
    "def test1():\n",
    "    a=0\n",
    "    for i in range(1,n+i):\n",
    "        if n%i==0:\n",
    "            a=a+1\n",
    "            if a==2:\n",
    "                print(\"number is prime\")\n",
    "        else:\n",
    "            print(\"number is not prime\")\n",
    "   "
   ]
  },
  {
   "cell_type": "code",
   "execution_count": 122,
   "id": "6e38ccbf-284b-4f95-b326-b625ef9e7bdb",
   "metadata": {},
   "outputs": [
    {
     "ename": "TypeError",
     "evalue": "test1() takes 0 positional arguments but 1 was given",
     "output_type": "error",
     "traceback": [
      "\u001b[1;31m---------------------------------------------------------------------------\u001b[0m",
      "\u001b[1;31mTypeError\u001b[0m                                 Traceback (most recent call last)",
      "Cell \u001b[1;32mIn[122], line 1\u001b[0m\n\u001b[1;32m----> 1\u001b[0m test1(\u001b[38;5;241m3\u001b[39m)\n",
      "\u001b[1;31mTypeError\u001b[0m: test1() takes 0 positional arguments but 1 was given"
     ]
    }
   ],
   "source": [
    "test1(3)\n"
   ]
  },
  {
   "cell_type": "markdown",
   "id": "f7db18f7-d79d-44be-bd54-c7bcb6ccf2cc",
   "metadata": {},
   "source": [
    "     write a python program to print all odd numbers from 1 to 50 using for loop and if statement "
   ]
  },
  {
   "cell_type": "code",
   "execution_count": 114,
   "id": "bd8ca93c-92bb-4555-b44f-8e3a475a4353",
   "metadata": {},
   "outputs": [
    {
     "name": "stdout",
     "output_type": "stream",
     "text": [
      "1\n",
      "3\n",
      "5\n",
      "7\n",
      "9\n",
      "11\n",
      "13\n",
      "15\n",
      "17\n",
      "19\n",
      "21\n",
      "23\n",
      "25\n",
      "27\n",
      "29\n",
      "31\n",
      "33\n",
      "35\n",
      "37\n",
      "39\n",
      "41\n",
      "43\n",
      "45\n",
      "47\n"
     ]
    }
   ],
   "source": [
    "for i in range(1,49):\n",
    "    if i % 2  !=0:\n",
    "        print(i)"
   ]
  },
  {
   "cell_type": "markdown",
   "id": "e97ecd3b-639f-4320-92a4-0cccaee9728d",
   "metadata": {},
   "source": [
    "      write a functon to print takes a list of number and returns the sum of all even number"
   ]
  },
  {
   "cell_type": "code",
   "execution_count": 119,
   "id": "bc00842a-44c8-4d6d-a41b-3a9d87df9606",
   "metadata": {},
   "outputs": [
    {
     "name": "stdout",
     "output_type": "stream",
     "text": [
      "15\n",
      "30\n",
      "45\n",
      "60\n",
      "75\n",
      "90\n"
     ]
    }
   ],
   "source": [
    "for i in range(1,100):\n",
    "    if i%3==0 and i%5==0:\n",
    "        print(i)"
   ]
  },
  {
   "cell_type": "markdown",
   "id": "ff9c143c-fdee-48e7-abc5-48c90b0abaf5",
   "metadata": {},
   "source": [
    "    write a function that accepts a number n and returns the fibonaccci series up to n terms "
   ]
  },
  {
   "cell_type": "code",
   "execution_count": 123,
   "id": "cee282c9-3b8e-4ac8-9895-1338765ff634",
   "metadata": {},
   "outputs": [],
   "source": [
    "def fibonacci(n):\n",
    "    a,b=0,1\n",
    "    for i in range(n):\n",
    "        print(a,end=\"     \")\n",
    "        a,b= b,a+b"
   ]
  },
  {
   "cell_type": "code",
   "execution_count": 125,
   "id": "c16a6a91-0bbc-4de6-9d22-e4c5fbac7991",
   "metadata": {},
   "outputs": [
    {
     "name": "stdout",
     "output_type": "stream",
     "text": [
      "0     1     1     2     3     5     8     13     21     34     55     89     144     233     377     610     987     1597     2584     4181     "
     ]
    }
   ],
   "source": [
    "fibonacci(20)"
   ]
  },
  {
   "cell_type": "markdown",
   "id": "f8fdb6b1-d884-4670-bb9d-923394566b2e",
   "metadata": {},
   "source": [
    "       write a function vowels in a string"
   ]
  },
  {
   "cell_type": "code",
   "execution_count": 128,
   "id": "904c7f96-04f4-4211-8ba8-03d17e778324",
   "metadata": {},
   "outputs": [],
   "source": [
    "def vowels(s):\n",
    "    vowels=\"sri chakresh kokkiligadda\"\n",
    "    return[char for char in s if char in vowels]\n",
    "\n"
   ]
  },
  {
   "cell_type": "code",
   "execution_count": 127,
   "id": "82cb1ef3-f245-41ef-8a1d-72f382a3c80a",
   "metadata": {},
   "outputs": [
    {
     "data": {
      "text/plain": [
       "['d', 'a', 'a', 's', 'c', 'i', 'e', 'c', 'e']"
      ]
     },
     "execution_count": 127,
     "metadata": {},
     "output_type": "execute_result"
    }
   ],
   "source": [
    "vowels(s)"
   ]
  },
  {
   "cell_type": "markdown",
   "id": "0b7fe3ae-30f3-4564-8d47-9edbf2f781ea",
   "metadata": {},
   "source": [
    "    write a python [program to handle division by zero using by expert"
   ]
  },
  {
   "cell_type": "code",
   "execution_count": 129,
   "id": "3223dc6d-3e75-4a88-b6be-cf6be2bf4dbc",
   "metadata": {},
   "outputs": [
    {
     "name": "stdin",
     "output_type": "stream",
     "text": [
      "enter the 1st value: 6\n",
      "enter the 2nd value: 7\n"
     ]
    },
    {
     "name": "stdout",
     "output_type": "stream",
     "text": [
      "0.8571428571428571\n"
     ]
    }
   ],
   "source": [
    "a=int(input(\"enter the 1st value:\"))\n",
    "b=int(input(\"enter the 2nd value:\"))\n",
    "try:\n",
    "    c=a/b\n",
    "    print(c)\n",
    "except ZeroDivisionError:\n",
    "    print(\"b should not b is zero\")"
   ]
  },
  {
   "cell_type": "markdown",
   "id": "c8415467-4d00-4f13-930f-98ed48ece2bc",
   "metadata": {},
   "source": [
    "  write a python function that takes two numbers as argments and return the sum"
   ]
  },
  {
   "cell_type": "code",
   "execution_count": 130,
   "id": "912695c7-74bf-4d9c-babd-662990fa0632",
   "metadata": {},
   "outputs": [
    {
     "data": {
      "text/plain": [
       "9"
      ]
     },
     "execution_count": 130,
     "metadata": {},
     "output_type": "execute_result"
    }
   ],
   "source": [
    "a=4\n",
    "b=5\n",
    "a+b"
   ]
  },
  {
   "cell_type": "markdown",
   "id": "e3c92732-c574-41be-bb64-7029f496183f",
   "metadata": {},
   "source": [
    "      write a function to check weather a given number is odd or even"
   ]
  },
  {
   "cell_type": "code",
   "execution_count": 133,
   "id": "9657ba1e-4cca-4426-9799-bd4835ff411d",
   "metadata": {},
   "outputs": [
    {
     "name": "stdin",
     "output_type": "stream",
     "text": [
      "Enter the value 8\n"
     ]
    },
    {
     "name": "stdout",
     "output_type": "stream",
     "text": [
      "even number\n"
     ]
    }
   ],
   "source": [
    "n=int(input(\"Enter the value\"))\n",
    "if a%2==0:\n",
    "    print(\"even number\")\n",
    "else:\n",
    "    print(\"odd number\")"
   ]
  },
  {
   "cell_type": "markdown",
   "id": "680b42d5-6200-4625-b147-2d3003cb1a44",
   "metadata": {},
   "source": [
    "    write a function that takes a number as input and returns a new list containing number"
   ]
  },
  {
   "cell_type": "code",
   "execution_count": 137,
   "id": "c2ba1f9a-cba6-4152-9288-7aa1a7a9301d",
   "metadata": {},
   "outputs": [],
   "source": [
    "def test():\n",
    "    a=60\n",
    "    return a*a"
   ]
  },
  {
   "cell_type": "code",
   "execution_count": 138,
   "id": "d23938c4-8d85-4503-b4d4-db4cd8cc04bf",
   "metadata": {},
   "outputs": [
    {
     "data": {
      "text/plain": [
       "3600"
      ]
     },
     "execution_count": 138,
     "metadata": {},
     "output_type": "execute_result"
    }
   ],
   "source": [
    "test()"
   ]
  },
  {
   "cell_type": "code",
   "execution_count": null,
   "id": "ea196c79-129d-4f60-a186-16b200a68cc0",
   "metadata": {},
   "outputs": [],
   "source": []
  }
 ],
 "metadata": {
  "kernelspec": {
   "display_name": "Python 3 (ipykernel)",
   "language": "python",
   "name": "python3"
  },
  "language_info": {
   "codemirror_mode": {
    "name": "ipython",
    "version": 3
   },
   "file_extension": ".py",
   "mimetype": "text/x-python",
   "name": "python",
   "nbconvert_exporter": "python",
   "pygments_lexer": "ipython3",
   "version": "3.13.5"
  }
 },
 "nbformat": 4,
 "nbformat_minor": 5
}
